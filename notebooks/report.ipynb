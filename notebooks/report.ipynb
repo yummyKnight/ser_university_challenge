{
 "cells": [
  {
   "cell_type": "markdown",
   "metadata": {
    "collapsed": true,
    "pycharm": {
     "name": "#%% md\n"
    }
   },
   "source": [
    "В ходе данного соревнования, мы перепробовали большое количество алгоритмов ML, также вариантов извлечения фич.\n",
    "Финальный алгоритм выглядит таким образом:"
   ]
  },
  {
   "cell_type": "markdown",
   "metadata": {
    "pycharm": {
     "name": "#%% md\n"
    }
   },
   "source": [
    "### Feature extraction\n",
    "Для извлечения фич использовалась библиотека Surfboard[2], предоставляющая высокоуровневый API для извлечения фич и статистики по ним.\n",
    "\n",
    "**Извлекались следующие фичи**:\n",
    "\n",
    "Основная частота (f0), логарифм энергии (logE), спектральный центроид (spectral centroid),\n",
    "форманты (formants) (1 - 4), громкость, jitters, shimmers, пересечение нуля (zerocrossing) и MFCC (первые 16)\n",
    "\n",
    "**Используя представленные статистики:**\n",
    "\n",
    "Среднее, СКО, минимум, максимум, коэффициент асимметрии (skewness),коэффициент островершинности (kurtosis),\n",
    "первая производная среднего, первая производная СКО, межквартальное размах.\n",
    "\n",
    "Такой набор фич составлен на основе проченных научных трудов [1,3], а также из общих соображений.\n",
    "\n",
    "Была попытка извлекать не статистики фич, а сами фичи, но это не принесло улучшения результатов,\n",
    "поскольку большинство фич было откинуто на этапе Feature selection\n",
    "\n",
    "В конечном итоге названия столбцов датасета имеют следующий вид: фича_статистика(_№) (номер только для MFCC)"
   ]
  },
  {
   "cell_type": "code",
   "execution_count": 1,
   "metadata": {
    "pycharm": {
     "name": "#%%\n"
    }
   },
   "outputs": [
    {
     "data": {
      "text/html": [
       "<div>\n",
       "<style scoped>\n",
       "    .dataframe tbody tr th:only-of-type {\n",
       "        vertical-align: middle;\n",
       "    }\n",
       "\n",
       "    .dataframe tbody tr th {\n",
       "        vertical-align: top;\n",
       "    }\n",
       "\n",
       "    .dataframe thead th {\n",
       "        text-align: right;\n",
       "    }\n",
       "</style>\n",
       "<table border=\"1\" class=\"dataframe\">\n",
       "  <thead>\n",
       "    <tr style=\"text-align: right;\">\n",
       "      <th></th>\n",
       "      <th>f0_contour_mean</th>\n",
       "      <th>f0_contour_std</th>\n",
       "      <th>f0_contour_min</th>\n",
       "      <th>f0_contour_max</th>\n",
       "      <th>f0_contour_skewness</th>\n",
       "      <th>f0_contour_kurtosis</th>\n",
       "      <th>f0_contour_first_derivative_mean</th>\n",
       "      <th>f0_contour_first_derivative_std</th>\n",
       "      <th>f0_contour_q3_q1_range</th>\n",
       "      <th>log_energy</th>\n",
       "      <th>...</th>\n",
       "      <th>mfcc_q3_q1_range_8</th>\n",
       "      <th>mfcc_q3_q1_range_9</th>\n",
       "      <th>mfcc_q3_q1_range_10</th>\n",
       "      <th>mfcc_q3_q1_range_11</th>\n",
       "      <th>mfcc_q3_q1_range_12</th>\n",
       "      <th>mfcc_q3_q1_range_13</th>\n",
       "      <th>mfcc_q3_q1_range_14</th>\n",
       "      <th>mfcc_q3_q1_range_15</th>\n",
       "      <th>mfcc_q3_q1_range_16</th>\n",
       "      <th>target</th>\n",
       "    </tr>\n",
       "  </thead>\n",
       "  <tbody>\n",
       "    <tr>\n",
       "      <th>0</th>\n",
       "      <td>23.967547</td>\n",
       "      <td>55.219171</td>\n",
       "      <td>0.0</td>\n",
       "      <td>189.119143</td>\n",
       "      <td>1.895990</td>\n",
       "      <td>1.668783</td>\n",
       "      <td>1.570260e-16</td>\n",
       "      <td>27.951188</td>\n",
       "      <td>0.0</td>\n",
       "      <td>-50.789417</td>\n",
       "      <td>...</td>\n",
       "      <td>6.817384</td>\n",
       "      <td>10.575198</td>\n",
       "      <td>5.019678</td>\n",
       "      <td>18.639672</td>\n",
       "      <td>4.687609</td>\n",
       "      <td>3.798230</td>\n",
       "      <td>6.998048</td>\n",
       "      <td>4.952859</td>\n",
       "      <td>7.033751</td>\n",
       "      <td>1</td>\n",
       "    </tr>\n",
       "    <tr>\n",
       "      <th>1</th>\n",
       "      <td>27.045372</td>\n",
       "      <td>71.229321</td>\n",
       "      <td>0.0</td>\n",
       "      <td>259.841201</td>\n",
       "      <td>2.297994</td>\n",
       "      <td>3.420751</td>\n",
       "      <td>-1.652425e-16</td>\n",
       "      <td>29.417767</td>\n",
       "      <td>0.0</td>\n",
       "      <td>-52.897926</td>\n",
       "      <td>...</td>\n",
       "      <td>6.969563</td>\n",
       "      <td>17.334488</td>\n",
       "      <td>9.290317</td>\n",
       "      <td>6.188273</td>\n",
       "      <td>5.173421</td>\n",
       "      <td>7.520164</td>\n",
       "      <td>4.676119</td>\n",
       "      <td>8.310646</td>\n",
       "      <td>5.102108</td>\n",
       "      <td>1</td>\n",
       "    </tr>\n",
       "    <tr>\n",
       "      <th>2</th>\n",
       "      <td>8.724462</td>\n",
       "      <td>32.011158</td>\n",
       "      <td>0.0</td>\n",
       "      <td>209.613961</td>\n",
       "      <td>4.010852</td>\n",
       "      <td>17.134221</td>\n",
       "      <td>0.000000e+00</td>\n",
       "      <td>19.592358</td>\n",
       "      <td>0.0</td>\n",
       "      <td>-57.779049</td>\n",
       "      <td>...</td>\n",
       "      <td>12.634435</td>\n",
       "      <td>14.232127</td>\n",
       "      <td>10.144253</td>\n",
       "      <td>10.668671</td>\n",
       "      <td>12.063463</td>\n",
       "      <td>9.836006</td>\n",
       "      <td>11.097036</td>\n",
       "      <td>10.172810</td>\n",
       "      <td>9.805441</td>\n",
       "      <td>1</td>\n",
       "    </tr>\n",
       "  </tbody>\n",
       "</table>\n",
       "<p>3 rows × 181 columns</p>\n",
       "</div>"
      ],
      "text/plain": [
       "   f0_contour_mean  f0_contour_std  f0_contour_min  f0_contour_max  \\\n",
       "0        23.967547       55.219171             0.0      189.119143   \n",
       "1        27.045372       71.229321             0.0      259.841201   \n",
       "2         8.724462       32.011158             0.0      209.613961   \n",
       "\n",
       "   f0_contour_skewness  f0_contour_kurtosis  f0_contour_first_derivative_mean  \\\n",
       "0             1.895990             1.668783                      1.570260e-16   \n",
       "1             2.297994             3.420751                     -1.652425e-16   \n",
       "2             4.010852            17.134221                      0.000000e+00   \n",
       "\n",
       "   f0_contour_first_derivative_std  f0_contour_q3_q1_range  log_energy  ...  \\\n",
       "0                        27.951188                     0.0  -50.789417  ...   \n",
       "1                        29.417767                     0.0  -52.897926  ...   \n",
       "2                        19.592358                     0.0  -57.779049  ...   \n",
       "\n",
       "   mfcc_q3_q1_range_8  mfcc_q3_q1_range_9  mfcc_q3_q1_range_10  \\\n",
       "0            6.817384           10.575198             5.019678   \n",
       "1            6.969563           17.334488             9.290317   \n",
       "2           12.634435           14.232127            10.144253   \n",
       "\n",
       "   mfcc_q3_q1_range_11  mfcc_q3_q1_range_12  mfcc_q3_q1_range_13  \\\n",
       "0            18.639672             4.687609             3.798230   \n",
       "1             6.188273             5.173421             7.520164   \n",
       "2            10.668671            12.063463             9.836006   \n",
       "\n",
       "   mfcc_q3_q1_range_14  mfcc_q3_q1_range_15  mfcc_q3_q1_range_16  target  \n",
       "0             6.998048             4.952859             7.033751       1  \n",
       "1             4.676119             8.310646             5.102108       1  \n",
       "2            11.097036            10.172810             9.805441       1  \n",
       "\n",
       "[3 rows x 181 columns]"
      ]
     },
     "execution_count": 1,
     "metadata": {},
     "output_type": "execute_result"
    }
   ],
   "source": [
    "# Вот так выглядил датасет до Feature selection\n",
    "import pandas as pd\n",
    "df = pd.read_csv(\"features_and_stat_full_2.csv\")\n",
    "df.head(3)"
   ]
  },
  {
   "cell_type": "markdown",
   "metadata": {
    "pycharm": {
     "name": "#%% md\n"
    }
   },
   "source": [
    "### Feature selection\n",
    "Для улучшения скорости обучения и точности классификаторов использовался выбор фич на основе взаимной информации\n",
    "(Mutual information). Были выбраны 120 столбцов с наивысшими показателями."
   ]
  },
  {
   "cell_type": "markdown",
   "metadata": {
    "pycharm": {
     "name": "#%% md\n"
    }
   },
   "source": [
    "### Классификатор\n",
    "После многочисленных экспериментов было решено использовать стэкинг из 4-ех классификаторов\n",
    " * MLP (размер  скрытого слоя - 200)\n",
    " * Случайный лес (500 деревьев)\n",
    " * Логистическая регрессия (параметр регуляризации - l2, C = 0.01)\n",
    " * SVC (С = 0,01)\n",
    "\n",
    "Перед тем как \"скормить\" классификатору фичи, они были стандартизированы.\n",
    "Эти 4 классификатора показали наилучшие результаты на кросс-валидации, поэтому было решено объединить их в стэк.\n",
    "Также они рекомендовались в ряде научных работ [1,3]\n",
    "В итоге, ансамбль имел точность ~ 0.82 на кросс валидации по 5 блокам."
   ]
  },
  {
   "cell_type": "markdown",
   "metadata": {
    "pycharm": {
     "name": "#%% md\n"
    }
   },
   "source": [
    "### Возможные улучшения\n",
    "Матрица ошибок показывает, что все классификаторы плохо различают 4 и 2 класс.\n",
    "Если убрать один из них, точность ансамбля приближается к ~0.95. К сожалению, за время соревнования нам так\n",
    "и не удалось найти такие фичи и/или классификаторы, которые смогли бы решить данную проблему"
   ]
  },
  {
   "cell_type": "markdown",
   "metadata": {
    "pycharm": {
     "name": "#%% md\n"
    }
   },
   "source": [
    "### Источники\n",
    " 1. Lijiang Chen et al. , Speech emotion recognition: Features and classification models,\n",
    " DOI: https://doi.org/10.1016/j.dsp.2012.05.007\n",
    " 2. Raphael Lenain et al. , Surfboard: Audio Feature Extraction for Modern Machine Learning,\n",
    " Ref: arXiv:2005.08848\n",
    " 3. Casale et al. Speech Emotion Classification Using Machine Learning Algorithms.\n",
    " DOI: 10.1109/ICSC.2008.43"
   ]
  }
 ],
 "metadata": {
  "kernelspec": {
   "display_name": "Python 3",
   "language": "python",
   "name": "python3"
  },
  "language_info": {
   "codemirror_mode": {
    "name": "ipython",
    "version": 3
   },
   "file_extension": ".py",
   "mimetype": "text/x-python",
   "name": "python",
   "nbconvert_exporter": "python",
   "pygments_lexer": "ipython3",
   "version": "3.7.9"
  }
 },
 "nbformat": 4,
 "nbformat_minor": 1
}