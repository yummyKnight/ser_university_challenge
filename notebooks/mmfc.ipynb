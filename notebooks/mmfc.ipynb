{
 "cells": [
  {
   "cell_type": "code",
   "execution_count": 1,
   "metadata": {
    "collapsed": true
   },
   "outputs": [],
   "source": [
    "import os\n",
    "import librosa\n",
    "import numpy as np\n",
    "import pandas as pd\n",
    "from IPython.core.display import display\n",
    "from sklearn.decomposition import PCA\n",
    "from sklearn.ensemble import GradientBoostingClassifier, StackingClassifier, RandomForestClassifier\n",
    "from sklearn.feature_selection import mutual_info_classif, SelectKBest\n",
    "from sklearn.linear_model import LogisticRegression, SGDClassifier, Perceptron\n",
    "from sklearn.metrics import confusion_matrix\n",
    "from sklearn.mixture import GaussianMixture\n",
    "from sklearn.model_selection import GridSearchCV, StratifiedKFold, cross_val_score, RandomizedSearchCV, \\\n",
    "    cross_val_predict\n",
    "from sklearn.neighbors import KNeighborsClassifier\n",
    "from sklearn.neural_network import MLPClassifier\n",
    "from sklearn.preprocessing import scale, StandardScaler\n",
    "from sklearn.svm import SVC, LinearSVC\n",
    "from sklearn.tree import DecisionTreeClassifier\n",
    "from surfboard.sound import Waveform\n",
    "from surfboard.feature_extraction import extract_features_from_waveform\n",
    "import xgboost as xgb"
   ]
  },
  {
   "cell_type": "code",
   "execution_count": 51,
   "outputs": [],
   "source": [
    "def extract_features(waveforms, components_list, statistics_list=None):\n",
    "    \"\"\"This is an important function. Given a list of Waveform objects, a list of\n",
    "    Waveform methods in the form of strings and a list of Barrel methods in the\n",
    "    form of strings, compute the time-independent features resulting. This function\n",
    "    does multiprocessing.\n",
    "\n",
    "    Args:\n",
    "        waveforms (list of Waveform): This is a list of waveform objects\n",
    "        components_list (list of str/dict): This is a list of the methods which\n",
    "            should be applied to all the waveform objects in waveforms. If a dict,\n",
    "            this also contains arguments to the sound.Waveform methods.\n",
    "        statistics_list (list of str): This is a list of the methods which\n",
    "            should be applied to all the time-dependent features computed\n",
    "            from the waveforms.\n",
    "\n",
    "    Returns:\n",
    "        pandas DataFrame: pandas dataframe where every row corresponds\n",
    "            to features extracted for one of the waveforms and columns\n",
    "            represent individual features.\n",
    "    \"\"\"\n",
    "    output_feats = []\n",
    "    # waveforms = tqdm(waveforms, desc='Extracting features...')\n",
    "\n",
    "    for wave in waveforms:\n",
    "        output_feats.append(\n",
    "            extract_features_from_waveform(\n",
    "                components_list, statistics_list, wave\n",
    "            )\n",
    "        )\n",
    "\n",
    "    return pd.DataFrame(output_feats)"
   ],
   "metadata": {
    "collapsed": false,
    "pycharm": {
     "name": "#%%\n"
    }
   }
  },
  {
   "cell_type": "markdown",
   "source": [
    "Используемые библиотеки:\n",
    "1) liborsa\n",
    "2) surfboard\n",
    "3)\n",
    "\n",
    "Порядок действий:\n",
    "\n",
    "    1) Усреднить громкость\n",
    "\n",
    "    2) librosa.effects.preemphasis (In order to equalize the effect of the propagation)\n",
    "\n",
    "    3) features:\n",
    "        2.1)MFCC\n",
    "        2.2)Energy\n",
    "        2.3)Pitch\n",
    "        2.4)formants (1 - 3)\n",
    "        2.5)spectrum centroid????\n",
    "        2.6)Zero crossing rate\n",
    "        2.7)jitter\n",
    "        2.8)shimmers\n",
    "        2.7) Mean, max, std (статистика по всем фичам на запись)"
   ],
   "metadata": {
    "collapsed": false
   }
  },
  {
   "cell_type": "code",
   "execution_count": 49,
   "outputs": [],
   "source": [
    "# functions to extract features from audio to dataframe\n",
    "components_list_for_stat_features = [\n",
    "    'f0_contour', 'log_energy', 'spectral_centroid', 'formants', 'loudness',\n",
    "    'jitters', 'shimmers', 'zerocrossing',\n",
    "]\n",
    "components_list_for_plain_features = [\n",
    "        'f0_contour', 'log_energy', 'spectral_centroid', 'loudness', 'intensity', 'rms', 'ppe']\n",
    "mfcc_with_arg = {'mfcc': {'n_mfcc': 16, 'n_fft_seconds': 512 / 48000}}\n",
    "statistics_list = ['mean', 'std', 'min', 'max', 'skewness', 'kurtosis',\n",
    "                   'first_derivative_mean', 'first_derivative_std', 'q3_q1_range']\n",
    "components_list_for_stat_features.append(mfcc_with_arg)\n",
    "components_list_for_plain_features.append(mfcc_with_arg)\n",
    "\n",
    "def unpack_features_inplace(feature_dataframe : pd.DataFrame) -> pd.DataFrame:\n",
    "    result  = pd.DataFrame()\n",
    "    for column in feature_dataframe.columns:\n",
    "        if type(feature_dataframe[column][0]) is np.ndarray:\n",
    "            if column is \"mfcc\":\n",
    "                # get 2 - 16 mfcc coef for each window\n",
    "                features_arr : np.ndarray = feature_dataframe.mfcc[0][2:, 50:250].ravel()\n",
    "                features_arr = features_arr[np.newaxis]\n",
    "                length = features_arr.shape[1]\n",
    "            else:\n",
    "                features_arr = feature_dataframe[column][0][:, 50:250]\n",
    "                length = len(features_arr[0])\n",
    "\n",
    "            print(features_arr.shape)\n",
    "            df = pd.DataFrame(features_arr, columns=[column + str(i) for i in range(length)])\n",
    "            result = pd.concat([result, df], axis=1)\n",
    "        else:\n",
    "            result = pd.concat([result, feature_dataframe[column]], axis=1)\n",
    "    return result\n",
    "\n",
    "def get_features(sound_path : str) -> pd.DataFrame:\n",
    "    audio, sampling_freq = librosa.load(sound_path, sr=None, res_type='scipy')\n",
    "    # 512 / sampling_freq\n",
    "    processed_audio = librosa.effects.preemphasis(audio)\n",
    "    # Extract dataframe...\n",
    "    audio = Waveform(signal=processed_audio, sample_rate=sampling_freq)\n",
    "    feature_df = extract_features(\n",
    "        waveforms=[audio], components_list=components_list_for_stat_features, statistics_list=statistics_list)\n",
    "    return feature_df\n"
   ],
   "metadata": {
    "collapsed": false,
    "pycharm": {
     "name": "#%%\n"
    }
   }
  },
  {
   "cell_type": "code",
   "execution_count": null,
   "outputs": [],
   "source": [
    "# making dataframe\n",
    "global_audio_path = \"../data\"\n",
    "res_dataframe = pd.DataFrame()\n",
    "classes = []\n",
    "for i in range(1, 6):\n",
    "    for root, dirs, files in os.walk(os.path.join(global_audio_path, str(i)), topdown=False):\n",
    "        print(len(files))\n",
    "        for name in files:\n",
    "            important_features = get_features(os.path.join(root, name))\n",
    "            # display(important_features)\n",
    "            res_dataframe = res_dataframe.append(important_features, ignore_index=True)\n",
    "            classes.append(i)"
   ],
   "metadata": {
    "collapsed": false,
    "pycharm": {
     "name": "#%%\n"
    }
   }
  },
  {
   "cell_type": "code",
   "execution_count": 23,
   "outputs": [],
   "source": [
    "def get_mean_conf_matrix(model, X, y):\n",
    "    conf_matrix_list_of_arrays = []\n",
    "    kf = StratifiedKFold(n_splits = 5, shuffle=True, random_state=241)\n",
    "    for train_index, test_index in kf.split(X, y):\n",
    "\n",
    "       X_train, X_test = X[train_index], X[test_index]\n",
    "       y_train, y_test = y[train_index], y[test_index]\n",
    "\n",
    "       model.fit(X_train, y_train)\n",
    "       conf_matrix = confusion_matrix(y_test, model.predict(X_test))\n",
    "       conf_matrix_list_of_arrays.append(conf_matrix)\n",
    "    return np.mean(conf_matrix_list_of_arrays, axis=0)"
   ],
   "metadata": {
    "collapsed": false,
    "pycharm": {
     "name": "#%%\n"
    }
   }
  },
  {
   "cell_type": "code",
   "execution_count": 9,
   "outputs": [
    {
     "data": {
      "text/plain": "     f0_contour_mean  f0_contour_std  f0_contour_min  f0_contour_max  \\\n0          23.967547       55.219171             0.0      189.119143   \n1          27.045372       71.229321             0.0      259.841201   \n2           8.724462       32.011158             0.0      209.613961   \n3          28.523561       74.396412             0.0      260.546090   \n4          10.253963       40.387550             0.0      238.921752   \n..               ...             ...             ...             ...   \n854         0.000000        0.000000             0.0        0.000000   \n855        11.937603       40.763433             0.0      176.104431   \n856        80.651854       98.998965             0.0      237.845414   \n857        47.841428       76.043443             0.0      200.364790   \n858        26.950171       76.005175             0.0      256.578877   \n\n     f0_contour_skewness  f0_contour_kurtosis  \\\n0               1.895990             1.668783   \n1               2.297994             3.420751   \n2               4.010852            17.134221   \n3               2.255366             3.177505   \n4               3.916850            14.445161   \n..                   ...                  ...   \n854             0.000000            -3.000000   \n855             3.170061             8.235236   \n856             0.422148            -1.802225   \n857             0.980022            -0.996395   \n858             2.471335             4.125015   \n\n     f0_contour_first_derivative_mean  f0_contour_first_derivative_std  \\\n0                        1.570260e-16                        27.951188   \n1                       -1.652425e-16                        29.417767   \n2                        0.000000e+00                        19.592358   \n3                        0.000000e+00                        36.652883   \n4                        0.000000e+00                        36.281940   \n..                                ...                              ...   \n854                      0.000000e+00                         0.000000   \n855                      0.000000e+00                        19.115677   \n856                     -1.583382e-16                        40.416811   \n857                      0.000000e+00                        25.452955   \n858                      1.300765e-16                        40.730591   \n\n     f0_contour_q3_q1_range  log_energy  ...  mfcc_q3_q1_range_7  \\\n0                  0.000000  -50.789417  ...           15.766265   \n1                  0.000000  -52.897926  ...           23.343090   \n2                  0.000000  -57.779049  ...           18.296813   \n3                  0.000000  -50.261565  ...           16.871922   \n4                  0.000000  -46.754228  ...           31.643030   \n..                      ...         ...  ...                 ...   \n854                0.000000  -49.614353  ...           38.190409   \n855                0.000000  -50.706402  ...           18.682658   \n856              197.180354  -55.082888  ...           14.759832   \n857              151.191570  -55.624970  ...           16.418184   \n858                0.000000  -54.222938  ...           13.198442   \n\n     mfcc_q3_q1_range_8  mfcc_q3_q1_range_9  mfcc_q3_q1_range_10  \\\n0              6.817384           10.575198             5.019678   \n1              6.969563           17.334488             9.290317   \n2             12.634435           14.232127            10.144253   \n3              4.114951           18.549006             9.859148   \n4              9.679077           11.189731             7.478577   \n..                  ...                 ...                  ...   \n854           11.919920           19.566975            20.034756   \n855           14.766144           11.331717            14.411584   \n856            9.662964           14.929921             8.962712   \n857           10.921530           20.866169            14.092030   \n858            6.266708           12.049806             9.736087   \n\n     mfcc_q3_q1_range_11  mfcc_q3_q1_range_12  mfcc_q3_q1_range_13  \\\n0              18.639672             4.687609             3.798230   \n1               6.188273             5.173421             7.520164   \n2              10.668671            12.063463             9.836006   \n3               6.460007             3.631738             6.366929   \n4              15.093403             6.569043             5.774323   \n..                   ...                  ...                  ...   \n854            26.156811             9.096250            10.394791   \n855            21.332257             6.488466             8.219062   \n856            10.297725             8.585087             6.362794   \n857            12.207006             9.323483             9.331396   \n858             9.728432             6.216406             8.621113   \n\n     mfcc_q3_q1_range_14  mfcc_q3_q1_range_15  mfcc_q3_q1_range_16  \n0               6.998048             4.952859             7.033751  \n1               4.676119             8.310646             5.102108  \n2              11.097036            10.172810             9.805441  \n3               4.032610            11.482723             7.560311  \n4               6.686566            10.186784             7.822491  \n..                   ...                  ...                  ...  \n854            12.184984             5.814711             5.547981  \n855            12.793879            12.382707             8.606090  \n856            13.534030             7.544165             9.226057  \n857             9.245415            10.395979             9.108313  \n858             9.457102             5.700551             5.091954  \n\n[859 rows x 180 columns]",
      "text/html": "<div>\n<style scoped>\n    .dataframe tbody tr th:only-of-type {\n        vertical-align: middle;\n    }\n\n    .dataframe tbody tr th {\n        vertical-align: top;\n    }\n\n    .dataframe thead th {\n        text-align: right;\n    }\n</style>\n<table border=\"1\" class=\"dataframe\">\n  <thead>\n    <tr style=\"text-align: right;\">\n      <th></th>\n      <th>f0_contour_mean</th>\n      <th>f0_contour_std</th>\n      <th>f0_contour_min</th>\n      <th>f0_contour_max</th>\n      <th>f0_contour_skewness</th>\n      <th>f0_contour_kurtosis</th>\n      <th>f0_contour_first_derivative_mean</th>\n      <th>f0_contour_first_derivative_std</th>\n      <th>f0_contour_q3_q1_range</th>\n      <th>log_energy</th>\n      <th>...</th>\n      <th>mfcc_q3_q1_range_7</th>\n      <th>mfcc_q3_q1_range_8</th>\n      <th>mfcc_q3_q1_range_9</th>\n      <th>mfcc_q3_q1_range_10</th>\n      <th>mfcc_q3_q1_range_11</th>\n      <th>mfcc_q3_q1_range_12</th>\n      <th>mfcc_q3_q1_range_13</th>\n      <th>mfcc_q3_q1_range_14</th>\n      <th>mfcc_q3_q1_range_15</th>\n      <th>mfcc_q3_q1_range_16</th>\n    </tr>\n  </thead>\n  <tbody>\n    <tr>\n      <th>0</th>\n      <td>23.967547</td>\n      <td>55.219171</td>\n      <td>0.0</td>\n      <td>189.119143</td>\n      <td>1.895990</td>\n      <td>1.668783</td>\n      <td>1.570260e-16</td>\n      <td>27.951188</td>\n      <td>0.000000</td>\n      <td>-50.789417</td>\n      <td>...</td>\n      <td>15.766265</td>\n      <td>6.817384</td>\n      <td>10.575198</td>\n      <td>5.019678</td>\n      <td>18.639672</td>\n      <td>4.687609</td>\n      <td>3.798230</td>\n      <td>6.998048</td>\n      <td>4.952859</td>\n      <td>7.033751</td>\n    </tr>\n    <tr>\n      <th>1</th>\n      <td>27.045372</td>\n      <td>71.229321</td>\n      <td>0.0</td>\n      <td>259.841201</td>\n      <td>2.297994</td>\n      <td>3.420751</td>\n      <td>-1.652425e-16</td>\n      <td>29.417767</td>\n      <td>0.000000</td>\n      <td>-52.897926</td>\n      <td>...</td>\n      <td>23.343090</td>\n      <td>6.969563</td>\n      <td>17.334488</td>\n      <td>9.290317</td>\n      <td>6.188273</td>\n      <td>5.173421</td>\n      <td>7.520164</td>\n      <td>4.676119</td>\n      <td>8.310646</td>\n      <td>5.102108</td>\n    </tr>\n    <tr>\n      <th>2</th>\n      <td>8.724462</td>\n      <td>32.011158</td>\n      <td>0.0</td>\n      <td>209.613961</td>\n      <td>4.010852</td>\n      <td>17.134221</td>\n      <td>0.000000e+00</td>\n      <td>19.592358</td>\n      <td>0.000000</td>\n      <td>-57.779049</td>\n      <td>...</td>\n      <td>18.296813</td>\n      <td>12.634435</td>\n      <td>14.232127</td>\n      <td>10.144253</td>\n      <td>10.668671</td>\n      <td>12.063463</td>\n      <td>9.836006</td>\n      <td>11.097036</td>\n      <td>10.172810</td>\n      <td>9.805441</td>\n    </tr>\n    <tr>\n      <th>3</th>\n      <td>28.523561</td>\n      <td>74.396412</td>\n      <td>0.0</td>\n      <td>260.546090</td>\n      <td>2.255366</td>\n      <td>3.177505</td>\n      <td>0.000000e+00</td>\n      <td>36.652883</td>\n      <td>0.000000</td>\n      <td>-50.261565</td>\n      <td>...</td>\n      <td>16.871922</td>\n      <td>4.114951</td>\n      <td>18.549006</td>\n      <td>9.859148</td>\n      <td>6.460007</td>\n      <td>3.631738</td>\n      <td>6.366929</td>\n      <td>4.032610</td>\n      <td>11.482723</td>\n      <td>7.560311</td>\n    </tr>\n    <tr>\n      <th>4</th>\n      <td>10.253963</td>\n      <td>40.387550</td>\n      <td>0.0</td>\n      <td>238.921752</td>\n      <td>3.916850</td>\n      <td>14.445161</td>\n      <td>0.000000e+00</td>\n      <td>36.281940</td>\n      <td>0.000000</td>\n      <td>-46.754228</td>\n      <td>...</td>\n      <td>31.643030</td>\n      <td>9.679077</td>\n      <td>11.189731</td>\n      <td>7.478577</td>\n      <td>15.093403</td>\n      <td>6.569043</td>\n      <td>5.774323</td>\n      <td>6.686566</td>\n      <td>10.186784</td>\n      <td>7.822491</td>\n    </tr>\n    <tr>\n      <th>...</th>\n      <td>...</td>\n      <td>...</td>\n      <td>...</td>\n      <td>...</td>\n      <td>...</td>\n      <td>...</td>\n      <td>...</td>\n      <td>...</td>\n      <td>...</td>\n      <td>...</td>\n      <td>...</td>\n      <td>...</td>\n      <td>...</td>\n      <td>...</td>\n      <td>...</td>\n      <td>...</td>\n      <td>...</td>\n      <td>...</td>\n      <td>...</td>\n      <td>...</td>\n      <td>...</td>\n    </tr>\n    <tr>\n      <th>854</th>\n      <td>0.000000</td>\n      <td>0.000000</td>\n      <td>0.0</td>\n      <td>0.000000</td>\n      <td>0.000000</td>\n      <td>-3.000000</td>\n      <td>0.000000e+00</td>\n      <td>0.000000</td>\n      <td>0.000000</td>\n      <td>-49.614353</td>\n      <td>...</td>\n      <td>38.190409</td>\n      <td>11.919920</td>\n      <td>19.566975</td>\n      <td>20.034756</td>\n      <td>26.156811</td>\n      <td>9.096250</td>\n      <td>10.394791</td>\n      <td>12.184984</td>\n      <td>5.814711</td>\n      <td>5.547981</td>\n    </tr>\n    <tr>\n      <th>855</th>\n      <td>11.937603</td>\n      <td>40.763433</td>\n      <td>0.0</td>\n      <td>176.104431</td>\n      <td>3.170061</td>\n      <td>8.235236</td>\n      <td>0.000000e+00</td>\n      <td>19.115677</td>\n      <td>0.000000</td>\n      <td>-50.706402</td>\n      <td>...</td>\n      <td>18.682658</td>\n      <td>14.766144</td>\n      <td>11.331717</td>\n      <td>14.411584</td>\n      <td>21.332257</td>\n      <td>6.488466</td>\n      <td>8.219062</td>\n      <td>12.793879</td>\n      <td>12.382707</td>\n      <td>8.606090</td>\n    </tr>\n    <tr>\n      <th>856</th>\n      <td>80.651854</td>\n      <td>98.998965</td>\n      <td>0.0</td>\n      <td>237.845414</td>\n      <td>0.422148</td>\n      <td>-1.802225</td>\n      <td>-1.583382e-16</td>\n      <td>40.416811</td>\n      <td>197.180354</td>\n      <td>-55.082888</td>\n      <td>...</td>\n      <td>14.759832</td>\n      <td>9.662964</td>\n      <td>14.929921</td>\n      <td>8.962712</td>\n      <td>10.297725</td>\n      <td>8.585087</td>\n      <td>6.362794</td>\n      <td>13.534030</td>\n      <td>7.544165</td>\n      <td>9.226057</td>\n    </tr>\n    <tr>\n      <th>857</th>\n      <td>47.841428</td>\n      <td>76.043443</td>\n      <td>0.0</td>\n      <td>200.364790</td>\n      <td>0.980022</td>\n      <td>-0.996395</td>\n      <td>0.000000e+00</td>\n      <td>25.452955</td>\n      <td>151.191570</td>\n      <td>-55.624970</td>\n      <td>...</td>\n      <td>16.418184</td>\n      <td>10.921530</td>\n      <td>20.866169</td>\n      <td>14.092030</td>\n      <td>12.207006</td>\n      <td>9.323483</td>\n      <td>9.331396</td>\n      <td>9.245415</td>\n      <td>10.395979</td>\n      <td>9.108313</td>\n    </tr>\n    <tr>\n      <th>858</th>\n      <td>26.950171</td>\n      <td>76.005175</td>\n      <td>0.0</td>\n      <td>256.578877</td>\n      <td>2.471335</td>\n      <td>4.125015</td>\n      <td>1.300765e-16</td>\n      <td>40.730591</td>\n      <td>0.000000</td>\n      <td>-54.222938</td>\n      <td>...</td>\n      <td>13.198442</td>\n      <td>6.266708</td>\n      <td>12.049806</td>\n      <td>9.736087</td>\n      <td>9.728432</td>\n      <td>6.216406</td>\n      <td>8.621113</td>\n      <td>9.457102</td>\n      <td>5.700551</td>\n      <td>5.091954</td>\n    </tr>\n  </tbody>\n</table>\n<p>859 rows × 180 columns</p>\n</div>"
     },
     "metadata": {},
     "output_type": "display_data"
    },
    {
     "data": {
      "text/plain": "       f0_contour_mean  f0_contour_std  f0_contour_min  f0_contour_max  \\\ncount       859.000000      859.000000           859.0      859.000000   \nmean         32.679361       61.670470             0.0      204.244583   \nstd          20.745549       26.378037             0.0       66.311670   \nmin           0.000000        0.000000             0.0        0.000000   \n25%          17.189673       45.091285             0.0      180.123285   \n50%          30.608498       63.876307             0.0      226.122932   \n75%          47.769585       83.996671             0.0      251.080904   \nmax          96.018157      109.769293             0.0      280.559255   \n\n       f0_contour_skewness  f0_contour_kurtosis  \\\ncount           859.000000           859.000000   \nmean              2.089628             8.862409   \nstd               2.529656            42.154758   \nmin               0.000000            -3.000000   \n25%               0.985625            -0.941569   \n50%               1.483075             0.337269   \n75%               2.181621             3.039097   \nmax              21.166063           446.002222   \n\n       f0_contour_first_derivative_mean  f0_contour_first_derivative_std  \\\ncount                      8.590000e+02                       859.000000   \nmean                       5.657557e-04                        31.836192   \nstd                        1.185124e-02                        12.422068   \nmin                       -6.161888e-16                         0.000000   \n25%                       -7.459766e-17                        24.962153   \n50%                        0.000000e+00                        33.257774   \n75%                        7.884106e-17                        40.507660   \nmax                        2.796821e-01                        59.362170   \n\n       f0_contour_q3_q1_range  log_energy  ...  mfcc_q3_q1_range_7  \\\ncount              859.000000  859.000000  ...          859.000000   \nmean                50.766291  -55.532670  ...           18.861103   \nstd                 75.607405    9.849781  ...            7.376569   \nmin                  0.000000  -79.909811  ...            4.237615   \n25%                  0.000000  -62.464710  ...           13.823632   \n50%                  0.000000  -57.157595  ...           18.083952   \n75%                112.032888  -48.948679  ...           23.132870   \nmax                224.091046  -29.154129  ...           44.057369   \n\n       mfcc_q3_q1_range_8  mfcc_q3_q1_range_9  mfcc_q3_q1_range_10  \\\ncount          859.000000          859.000000           859.000000   \nmean             8.791814           15.332696             9.794284   \nstd              3.533583            5.343398             4.383627   \nmin              0.000000            1.744585             0.375644   \n25%              6.141642           11.199074             6.642437   \n50%              8.316085           15.021816             9.011215   \n75%             11.031903           19.114989            12.291657   \nmax             23.916194           31.031125            29.180224   \n\n       mfcc_q3_q1_range_11  mfcc_q3_q1_range_12  mfcc_q3_q1_range_13  \\\ncount           859.000000           859.000000           859.000000   \nmean              9.935873             7.130749             8.320488   \nstd               4.568073             2.765017             3.655359   \nmin               1.538204             0.600210             0.468612   \n25%               6.529782             5.162255             5.885468   \n50%               9.128621             6.919869             7.745886   \n75%              12.208972             8.664798            10.028368   \nmax              28.699110            22.758804            27.303226   \n\n       mfcc_q3_q1_range_14  mfcc_q3_q1_range_15  mfcc_q3_q1_range_16  \ncount           859.000000           859.000000           859.000000  \nmean              7.671520             8.140776             6.906689  \nstd               3.099579             3.114858             2.799041  \nmin               0.053435             0.875458             1.651371  \n25%               5.281707             5.893342             4.877548  \n50%               7.202434             7.630065             6.443548  \n75%               9.899950             9.925875             8.690651  \nmax              22.335853            20.096462            21.351741  \n\n[8 rows x 180 columns]",
      "text/html": "<div>\n<style scoped>\n    .dataframe tbody tr th:only-of-type {\n        vertical-align: middle;\n    }\n\n    .dataframe tbody tr th {\n        vertical-align: top;\n    }\n\n    .dataframe thead th {\n        text-align: right;\n    }\n</style>\n<table border=\"1\" class=\"dataframe\">\n  <thead>\n    <tr style=\"text-align: right;\">\n      <th></th>\n      <th>f0_contour_mean</th>\n      <th>f0_contour_std</th>\n      <th>f0_contour_min</th>\n      <th>f0_contour_max</th>\n      <th>f0_contour_skewness</th>\n      <th>f0_contour_kurtosis</th>\n      <th>f0_contour_first_derivative_mean</th>\n      <th>f0_contour_first_derivative_std</th>\n      <th>f0_contour_q3_q1_range</th>\n      <th>log_energy</th>\n      <th>...</th>\n      <th>mfcc_q3_q1_range_7</th>\n      <th>mfcc_q3_q1_range_8</th>\n      <th>mfcc_q3_q1_range_9</th>\n      <th>mfcc_q3_q1_range_10</th>\n      <th>mfcc_q3_q1_range_11</th>\n      <th>mfcc_q3_q1_range_12</th>\n      <th>mfcc_q3_q1_range_13</th>\n      <th>mfcc_q3_q1_range_14</th>\n      <th>mfcc_q3_q1_range_15</th>\n      <th>mfcc_q3_q1_range_16</th>\n    </tr>\n  </thead>\n  <tbody>\n    <tr>\n      <th>count</th>\n      <td>859.000000</td>\n      <td>859.000000</td>\n      <td>859.0</td>\n      <td>859.000000</td>\n      <td>859.000000</td>\n      <td>859.000000</td>\n      <td>8.590000e+02</td>\n      <td>859.000000</td>\n      <td>859.000000</td>\n      <td>859.000000</td>\n      <td>...</td>\n      <td>859.000000</td>\n      <td>859.000000</td>\n      <td>859.000000</td>\n      <td>859.000000</td>\n      <td>859.000000</td>\n      <td>859.000000</td>\n      <td>859.000000</td>\n      <td>859.000000</td>\n      <td>859.000000</td>\n      <td>859.000000</td>\n    </tr>\n    <tr>\n      <th>mean</th>\n      <td>32.679361</td>\n      <td>61.670470</td>\n      <td>0.0</td>\n      <td>204.244583</td>\n      <td>2.089628</td>\n      <td>8.862409</td>\n      <td>5.657557e-04</td>\n      <td>31.836192</td>\n      <td>50.766291</td>\n      <td>-55.532670</td>\n      <td>...</td>\n      <td>18.861103</td>\n      <td>8.791814</td>\n      <td>15.332696</td>\n      <td>9.794284</td>\n      <td>9.935873</td>\n      <td>7.130749</td>\n      <td>8.320488</td>\n      <td>7.671520</td>\n      <td>8.140776</td>\n      <td>6.906689</td>\n    </tr>\n    <tr>\n      <th>std</th>\n      <td>20.745549</td>\n      <td>26.378037</td>\n      <td>0.0</td>\n      <td>66.311670</td>\n      <td>2.529656</td>\n      <td>42.154758</td>\n      <td>1.185124e-02</td>\n      <td>12.422068</td>\n      <td>75.607405</td>\n      <td>9.849781</td>\n      <td>...</td>\n      <td>7.376569</td>\n      <td>3.533583</td>\n      <td>5.343398</td>\n      <td>4.383627</td>\n      <td>4.568073</td>\n      <td>2.765017</td>\n      <td>3.655359</td>\n      <td>3.099579</td>\n      <td>3.114858</td>\n      <td>2.799041</td>\n    </tr>\n    <tr>\n      <th>min</th>\n      <td>0.000000</td>\n      <td>0.000000</td>\n      <td>0.0</td>\n      <td>0.000000</td>\n      <td>0.000000</td>\n      <td>-3.000000</td>\n      <td>-6.161888e-16</td>\n      <td>0.000000</td>\n      <td>0.000000</td>\n      <td>-79.909811</td>\n      <td>...</td>\n      <td>4.237615</td>\n      <td>0.000000</td>\n      <td>1.744585</td>\n      <td>0.375644</td>\n      <td>1.538204</td>\n      <td>0.600210</td>\n      <td>0.468612</td>\n      <td>0.053435</td>\n      <td>0.875458</td>\n      <td>1.651371</td>\n    </tr>\n    <tr>\n      <th>25%</th>\n      <td>17.189673</td>\n      <td>45.091285</td>\n      <td>0.0</td>\n      <td>180.123285</td>\n      <td>0.985625</td>\n      <td>-0.941569</td>\n      <td>-7.459766e-17</td>\n      <td>24.962153</td>\n      <td>0.000000</td>\n      <td>-62.464710</td>\n      <td>...</td>\n      <td>13.823632</td>\n      <td>6.141642</td>\n      <td>11.199074</td>\n      <td>6.642437</td>\n      <td>6.529782</td>\n      <td>5.162255</td>\n      <td>5.885468</td>\n      <td>5.281707</td>\n      <td>5.893342</td>\n      <td>4.877548</td>\n    </tr>\n    <tr>\n      <th>50%</th>\n      <td>30.608498</td>\n      <td>63.876307</td>\n      <td>0.0</td>\n      <td>226.122932</td>\n      <td>1.483075</td>\n      <td>0.337269</td>\n      <td>0.000000e+00</td>\n      <td>33.257774</td>\n      <td>0.000000</td>\n      <td>-57.157595</td>\n      <td>...</td>\n      <td>18.083952</td>\n      <td>8.316085</td>\n      <td>15.021816</td>\n      <td>9.011215</td>\n      <td>9.128621</td>\n      <td>6.919869</td>\n      <td>7.745886</td>\n      <td>7.202434</td>\n      <td>7.630065</td>\n      <td>6.443548</td>\n    </tr>\n    <tr>\n      <th>75%</th>\n      <td>47.769585</td>\n      <td>83.996671</td>\n      <td>0.0</td>\n      <td>251.080904</td>\n      <td>2.181621</td>\n      <td>3.039097</td>\n      <td>7.884106e-17</td>\n      <td>40.507660</td>\n      <td>112.032888</td>\n      <td>-48.948679</td>\n      <td>...</td>\n      <td>23.132870</td>\n      <td>11.031903</td>\n      <td>19.114989</td>\n      <td>12.291657</td>\n      <td>12.208972</td>\n      <td>8.664798</td>\n      <td>10.028368</td>\n      <td>9.899950</td>\n      <td>9.925875</td>\n      <td>8.690651</td>\n    </tr>\n    <tr>\n      <th>max</th>\n      <td>96.018157</td>\n      <td>109.769293</td>\n      <td>0.0</td>\n      <td>280.559255</td>\n      <td>21.166063</td>\n      <td>446.002222</td>\n      <td>2.796821e-01</td>\n      <td>59.362170</td>\n      <td>224.091046</td>\n      <td>-29.154129</td>\n      <td>...</td>\n      <td>44.057369</td>\n      <td>23.916194</td>\n      <td>31.031125</td>\n      <td>29.180224</td>\n      <td>28.699110</td>\n      <td>22.758804</td>\n      <td>27.303226</td>\n      <td>22.335853</td>\n      <td>20.096462</td>\n      <td>21.351741</td>\n    </tr>\n  </tbody>\n</table>\n<p>8 rows × 180 columns</p>\n</div>"
     },
     "execution_count": 9,
     "metadata": {},
     "output_type": "execute_result"
    }
   ],
   "source": [
    "display(res_dataframe)\n",
    "res_dataframe.describe()"
   ],
   "metadata": {
    "collapsed": false,
    "pycharm": {
     "name": "#%%\n"
    }
   }
  },
  {
   "cell_type": "code",
   "execution_count": 10,
   "outputs": [
    {
     "data": {
      "text/plain": "array([1, 2, 3, 4, 5], dtype=int64)"
     },
     "execution_count": 10,
     "metadata": {},
     "output_type": "execute_result"
    }
   ],
   "source": [
    "# check classes\n",
    "res_dataframe.fillna(0, inplace=True)\n",
    "target = pd.Series(classes, name=\"target\")\n",
    "target.unique()"
   ],
   "metadata": {
    "collapsed": false,
    "pycharm": {
     "name": "#%%\n"
    }
   }
  },
  {
   "cell_type": "code",
   "execution_count": null,
   "outputs": [],
   "source": [
    "# save data\n",
    "full_df = pd.concat([res_dataframe, target], 1)\n",
    "full_df.to_csv(\"features_and_stat_full_2.csv\", index=False)"
   ],
   "metadata": {
    "collapsed": false,
    "pycharm": {
     "name": "#%%\n"
    }
   }
  },
  {
   "cell_type": "code",
   "execution_count": 3,
   "outputs": [
    {
     "data": {
      "text/plain": "     f0_contour_mean  f0_contour_std  f0_contour_min  f0_contour_max  \\\n0          23.967547       55.219171             0.0      189.119143   \n1          27.045372       71.229321             0.0      259.841201   \n2           8.724462       32.011158             0.0      209.613961   \n3          28.523561       74.396412             0.0      260.546090   \n4          10.253963       40.387550             0.0      238.921752   \n..               ...             ...             ...             ...   \n854         0.000000        0.000000             0.0        0.000000   \n855        11.937603       40.763433             0.0      176.104431   \n856        80.651854       98.998965             0.0      237.845414   \n857        47.841428       76.043443             0.0      200.364790   \n858        26.950171       76.005175             0.0      256.578877   \n\n     f0_contour_skewness  f0_contour_kurtosis  \\\n0               1.895990             1.668783   \n1               2.297994             3.420751   \n2               4.010852            17.134221   \n3               2.255366             3.177505   \n4               3.916850            14.445161   \n..                   ...                  ...   \n854             0.000000            -3.000000   \n855             3.170061             8.235236   \n856             0.422148            -1.802225   \n857             0.980022            -0.996395   \n858             2.471335             4.125015   \n\n     f0_contour_first_derivative_mean  f0_contour_first_derivative_std  \\\n0                        1.570260e-16                        27.951188   \n1                       -1.652425e-16                        29.417767   \n2                        0.000000e+00                        19.592358   \n3                        0.000000e+00                        36.652883   \n4                        0.000000e+00                        36.281940   \n..                                ...                              ...   \n854                      0.000000e+00                         0.000000   \n855                      0.000000e+00                        19.115677   \n856                     -1.583382e-16                        40.416811   \n857                      0.000000e+00                        25.452955   \n858                      1.300765e-16                        40.730591   \n\n     f0_contour_q3_q1_range  log_energy  ...  mfcc_q3_q1_range_7  \\\n0                  0.000000  -50.789417  ...           15.766265   \n1                  0.000000  -52.897926  ...           23.343090   \n2                  0.000000  -57.779049  ...           18.296813   \n3                  0.000000  -50.261565  ...           16.871922   \n4                  0.000000  -46.754228  ...           31.643030   \n..                      ...         ...  ...                 ...   \n854                0.000000  -49.614353  ...           38.190409   \n855                0.000000  -50.706402  ...           18.682658   \n856              197.180354  -55.082888  ...           14.759832   \n857              151.191570  -55.624970  ...           16.418184   \n858                0.000000  -54.222938  ...           13.198442   \n\n     mfcc_q3_q1_range_8  mfcc_q3_q1_range_9  mfcc_q3_q1_range_10  \\\n0              6.817384           10.575198             5.019678   \n1              6.969563           17.334488             9.290317   \n2             12.634435           14.232127            10.144253   \n3              4.114951           18.549006             9.859148   \n4              9.679077           11.189731             7.478577   \n..                  ...                 ...                  ...   \n854           11.919920           19.566975            20.034756   \n855           14.766144           11.331717            14.411584   \n856            9.662964           14.929921             8.962712   \n857           10.921530           20.866169            14.092030   \n858            6.266708           12.049806             9.736087   \n\n     mfcc_q3_q1_range_11  mfcc_q3_q1_range_12  mfcc_q3_q1_range_13  \\\n0              18.639672             4.687609             3.798230   \n1               6.188273             5.173421             7.520164   \n2              10.668671            12.063463             9.836006   \n3               6.460007             3.631738             6.366929   \n4              15.093403             6.569043             5.774323   \n..                   ...                  ...                  ...   \n854            26.156811             9.096250            10.394791   \n855            21.332257             6.488466             8.219062   \n856            10.297725             8.585087             6.362794   \n857            12.207006             9.323483             9.331396   \n858             9.728432             6.216406             8.621113   \n\n     mfcc_q3_q1_range_14  mfcc_q3_q1_range_15  mfcc_q3_q1_range_16  \n0               6.998048             4.952859             7.033751  \n1               4.676119             8.310646             5.102108  \n2              11.097036            10.172810             9.805441  \n3               4.032610            11.482723             7.560311  \n4               6.686566            10.186784             7.822491  \n..                   ...                  ...                  ...  \n854            12.184984             5.814711             5.547981  \n855            12.793879            12.382707             8.606090  \n856            13.534030             7.544165             9.226057  \n857             9.245415            10.395979             9.108313  \n858             9.457102             5.700551             5.091954  \n\n[859 rows x 180 columns]",
      "text/html": "<div>\n<style scoped>\n    .dataframe tbody tr th:only-of-type {\n        vertical-align: middle;\n    }\n\n    .dataframe tbody tr th {\n        vertical-align: top;\n    }\n\n    .dataframe thead th {\n        text-align: right;\n    }\n</style>\n<table border=\"1\" class=\"dataframe\">\n  <thead>\n    <tr style=\"text-align: right;\">\n      <th></th>\n      <th>f0_contour_mean</th>\n      <th>f0_contour_std</th>\n      <th>f0_contour_min</th>\n      <th>f0_contour_max</th>\n      <th>f0_contour_skewness</th>\n      <th>f0_contour_kurtosis</th>\n      <th>f0_contour_first_derivative_mean</th>\n      <th>f0_contour_first_derivative_std</th>\n      <th>f0_contour_q3_q1_range</th>\n      <th>log_energy</th>\n      <th>...</th>\n      <th>mfcc_q3_q1_range_7</th>\n      <th>mfcc_q3_q1_range_8</th>\n      <th>mfcc_q3_q1_range_9</th>\n      <th>mfcc_q3_q1_range_10</th>\n      <th>mfcc_q3_q1_range_11</th>\n      <th>mfcc_q3_q1_range_12</th>\n      <th>mfcc_q3_q1_range_13</th>\n      <th>mfcc_q3_q1_range_14</th>\n      <th>mfcc_q3_q1_range_15</th>\n      <th>mfcc_q3_q1_range_16</th>\n    </tr>\n  </thead>\n  <tbody>\n    <tr>\n      <th>0</th>\n      <td>23.967547</td>\n      <td>55.219171</td>\n      <td>0.0</td>\n      <td>189.119143</td>\n      <td>1.895990</td>\n      <td>1.668783</td>\n      <td>1.570260e-16</td>\n      <td>27.951188</td>\n      <td>0.000000</td>\n      <td>-50.789417</td>\n      <td>...</td>\n      <td>15.766265</td>\n      <td>6.817384</td>\n      <td>10.575198</td>\n      <td>5.019678</td>\n      <td>18.639672</td>\n      <td>4.687609</td>\n      <td>3.798230</td>\n      <td>6.998048</td>\n      <td>4.952859</td>\n      <td>7.033751</td>\n    </tr>\n    <tr>\n      <th>1</th>\n      <td>27.045372</td>\n      <td>71.229321</td>\n      <td>0.0</td>\n      <td>259.841201</td>\n      <td>2.297994</td>\n      <td>3.420751</td>\n      <td>-1.652425e-16</td>\n      <td>29.417767</td>\n      <td>0.000000</td>\n      <td>-52.897926</td>\n      <td>...</td>\n      <td>23.343090</td>\n      <td>6.969563</td>\n      <td>17.334488</td>\n      <td>9.290317</td>\n      <td>6.188273</td>\n      <td>5.173421</td>\n      <td>7.520164</td>\n      <td>4.676119</td>\n      <td>8.310646</td>\n      <td>5.102108</td>\n    </tr>\n    <tr>\n      <th>2</th>\n      <td>8.724462</td>\n      <td>32.011158</td>\n      <td>0.0</td>\n      <td>209.613961</td>\n      <td>4.010852</td>\n      <td>17.134221</td>\n      <td>0.000000e+00</td>\n      <td>19.592358</td>\n      <td>0.000000</td>\n      <td>-57.779049</td>\n      <td>...</td>\n      <td>18.296813</td>\n      <td>12.634435</td>\n      <td>14.232127</td>\n      <td>10.144253</td>\n      <td>10.668671</td>\n      <td>12.063463</td>\n      <td>9.836006</td>\n      <td>11.097036</td>\n      <td>10.172810</td>\n      <td>9.805441</td>\n    </tr>\n    <tr>\n      <th>3</th>\n      <td>28.523561</td>\n      <td>74.396412</td>\n      <td>0.0</td>\n      <td>260.546090</td>\n      <td>2.255366</td>\n      <td>3.177505</td>\n      <td>0.000000e+00</td>\n      <td>36.652883</td>\n      <td>0.000000</td>\n      <td>-50.261565</td>\n      <td>...</td>\n      <td>16.871922</td>\n      <td>4.114951</td>\n      <td>18.549006</td>\n      <td>9.859148</td>\n      <td>6.460007</td>\n      <td>3.631738</td>\n      <td>6.366929</td>\n      <td>4.032610</td>\n      <td>11.482723</td>\n      <td>7.560311</td>\n    </tr>\n    <tr>\n      <th>4</th>\n      <td>10.253963</td>\n      <td>40.387550</td>\n      <td>0.0</td>\n      <td>238.921752</td>\n      <td>3.916850</td>\n      <td>14.445161</td>\n      <td>0.000000e+00</td>\n      <td>36.281940</td>\n      <td>0.000000</td>\n      <td>-46.754228</td>\n      <td>...</td>\n      <td>31.643030</td>\n      <td>9.679077</td>\n      <td>11.189731</td>\n      <td>7.478577</td>\n      <td>15.093403</td>\n      <td>6.569043</td>\n      <td>5.774323</td>\n      <td>6.686566</td>\n      <td>10.186784</td>\n      <td>7.822491</td>\n    </tr>\n    <tr>\n      <th>...</th>\n      <td>...</td>\n      <td>...</td>\n      <td>...</td>\n      <td>...</td>\n      <td>...</td>\n      <td>...</td>\n      <td>...</td>\n      <td>...</td>\n      <td>...</td>\n      <td>...</td>\n      <td>...</td>\n      <td>...</td>\n      <td>...</td>\n      <td>...</td>\n      <td>...</td>\n      <td>...</td>\n      <td>...</td>\n      <td>...</td>\n      <td>...</td>\n      <td>...</td>\n      <td>...</td>\n    </tr>\n    <tr>\n      <th>854</th>\n      <td>0.000000</td>\n      <td>0.000000</td>\n      <td>0.0</td>\n      <td>0.000000</td>\n      <td>0.000000</td>\n      <td>-3.000000</td>\n      <td>0.000000e+00</td>\n      <td>0.000000</td>\n      <td>0.000000</td>\n      <td>-49.614353</td>\n      <td>...</td>\n      <td>38.190409</td>\n      <td>11.919920</td>\n      <td>19.566975</td>\n      <td>20.034756</td>\n      <td>26.156811</td>\n      <td>9.096250</td>\n      <td>10.394791</td>\n      <td>12.184984</td>\n      <td>5.814711</td>\n      <td>5.547981</td>\n    </tr>\n    <tr>\n      <th>855</th>\n      <td>11.937603</td>\n      <td>40.763433</td>\n      <td>0.0</td>\n      <td>176.104431</td>\n      <td>3.170061</td>\n      <td>8.235236</td>\n      <td>0.000000e+00</td>\n      <td>19.115677</td>\n      <td>0.000000</td>\n      <td>-50.706402</td>\n      <td>...</td>\n      <td>18.682658</td>\n      <td>14.766144</td>\n      <td>11.331717</td>\n      <td>14.411584</td>\n      <td>21.332257</td>\n      <td>6.488466</td>\n      <td>8.219062</td>\n      <td>12.793879</td>\n      <td>12.382707</td>\n      <td>8.606090</td>\n    </tr>\n    <tr>\n      <th>856</th>\n      <td>80.651854</td>\n      <td>98.998965</td>\n      <td>0.0</td>\n      <td>237.845414</td>\n      <td>0.422148</td>\n      <td>-1.802225</td>\n      <td>-1.583382e-16</td>\n      <td>40.416811</td>\n      <td>197.180354</td>\n      <td>-55.082888</td>\n      <td>...</td>\n      <td>14.759832</td>\n      <td>9.662964</td>\n      <td>14.929921</td>\n      <td>8.962712</td>\n      <td>10.297725</td>\n      <td>8.585087</td>\n      <td>6.362794</td>\n      <td>13.534030</td>\n      <td>7.544165</td>\n      <td>9.226057</td>\n    </tr>\n    <tr>\n      <th>857</th>\n      <td>47.841428</td>\n      <td>76.043443</td>\n      <td>0.0</td>\n      <td>200.364790</td>\n      <td>0.980022</td>\n      <td>-0.996395</td>\n      <td>0.000000e+00</td>\n      <td>25.452955</td>\n      <td>151.191570</td>\n      <td>-55.624970</td>\n      <td>...</td>\n      <td>16.418184</td>\n      <td>10.921530</td>\n      <td>20.866169</td>\n      <td>14.092030</td>\n      <td>12.207006</td>\n      <td>9.323483</td>\n      <td>9.331396</td>\n      <td>9.245415</td>\n      <td>10.395979</td>\n      <td>9.108313</td>\n    </tr>\n    <tr>\n      <th>858</th>\n      <td>26.950171</td>\n      <td>76.005175</td>\n      <td>0.0</td>\n      <td>256.578877</td>\n      <td>2.471335</td>\n      <td>4.125015</td>\n      <td>1.300765e-16</td>\n      <td>40.730591</td>\n      <td>0.000000</td>\n      <td>-54.222938</td>\n      <td>...</td>\n      <td>13.198442</td>\n      <td>6.266708</td>\n      <td>12.049806</td>\n      <td>9.736087</td>\n      <td>9.728432</td>\n      <td>6.216406</td>\n      <td>8.621113</td>\n      <td>9.457102</td>\n      <td>5.700551</td>\n      <td>5.091954</td>\n    </tr>\n  </tbody>\n</table>\n<p>859 rows × 180 columns</p>\n</div>"
     },
     "metadata": {},
     "output_type": "display_data"
    },
    {
     "data": {
      "text/plain": "0      1\n1      1\n2      1\n3      1\n4      1\n      ..\n854    5\n855    5\n856    5\n857    5\n858    5\nName: target, Length: 859, dtype: int64"
     },
     "metadata": {},
     "output_type": "display_data"
    }
   ],
   "source": [
    "# load old data\n",
    "data = pd.read_csv(\"features_and_stat_full_2.csv\")\n",
    "target = data[\"target\"]\n",
    "res_dataframe = data.drop(columns=\"target\")\n",
    "display(res_dataframe)\n",
    "display(target)"
   ],
   "metadata": {
    "collapsed": false,
    "pycharm": {
     "name": "#%%\n"
    }
   }
  },
  {
   "cell_type": "markdown",
   "source": [
    "Feature selection Section\n",
    "\n",
    "Here we testing methods for dimension reduction"
   ],
   "metadata": {
    "collapsed": false,
    "pycharm": {
     "name": "#%% md\n"
    }
   }
  },
  {
   "cell_type": "code",
   "execution_count": 11,
   "outputs": [
    {
     "name": "stdout",
     "output_type": "stream",
     "text": [
      "(140,)\n",
      "f0_contour_q3_q1_range\n",
      "apq3Shimmer\n",
      "mfcc_q3_q1_range_13\n",
      "mfcc_mean_13\n",
      "localShimmer\n",
      "spectral_centroid_skewness\n",
      "mfcc_kurtosis_5\n",
      "mfcc_q3_q1_range_5\n",
      "mfcc_first_derivative_std_1\n",
      "mfcc_std_14\n",
      "spectral_centroid_mean\n",
      "mfcc_kurtosis_1\n",
      "mfcc_max_4\n",
      "mfcc_kurtosis_7\n",
      "mfcc_std_8\n",
      "mfcc_mean_5\n",
      "spectral_centroid_min\n",
      "mfcc_max_16\n",
      "mfcc_mean_15\n",
      "mfcc_std_10\n",
      "mfcc_first_derivative_std_11\n",
      "mfcc_mean_14\n",
      "mfcc_first_derivative_std_8\n",
      "mfcc_min_4\n",
      "mfcc_min_6\n",
      "localdbShimmer\n",
      "mfcc_q3_q1_range_10\n",
      "mfcc_mean_12\n",
      "mfcc_max_12\n",
      "mfcc_min_15\n",
      "spectral_centroid_first_derivative_std\n",
      "mfcc_skewness_7\n",
      "f0_contour_max\n",
      "mfcc_q3_q1_range_2\n",
      "mfcc_std_12\n",
      "mfcc_q3_q1_range_16\n",
      "mfcc_first_derivative_mean_3\n",
      "mfcc_kurtosis_11\n",
      "mfcc_kurtosis_13\n",
      "mfcc_mean_16\n",
      "mfcc_std_9\n",
      "mfcc_first_derivative_std_5\n",
      "mfcc_skewness_6\n",
      "mfcc_first_derivative_std_10\n",
      "mfcc_min_10\n",
      "mfcc_min_2\n",
      "mfcc_skewness_2\n",
      "mfcc_q3_q1_range_15\n",
      "num_zerocrossings\n",
      "mfcc_kurtosis_4\n",
      "mfcc_min_8\n",
      "mfcc_max_2\n",
      "mfcc_mean_4\n",
      "mfcc_skewness_1\n",
      "mfcc_skewness_12\n",
      "f3\n",
      "mfcc_first_derivative_mean_14\n",
      "mfcc_first_derivative_std_16\n",
      "mfcc_skewness_11\n",
      "mfcc_min_9\n",
      "mfcc_q3_q1_range_12\n",
      "mfcc_mean_8\n",
      "spectral_centroid_q3_q1_range\n",
      "mfcc_first_derivative_mean_2\n",
      "mfcc_first_derivative_mean_8\n",
      "mfcc_mean_6\n",
      "mfcc_first_derivative_std_3\n",
      "mfcc_first_derivative_mean_10\n",
      "mfcc_q3_q1_range_9\n",
      "mfcc_q3_q1_range_14\n",
      "mfcc_std_2\n",
      "mfcc_kurtosis_2\n",
      "mfcc_first_derivative_mean_4\n",
      "mfcc_first_derivative_mean_16\n",
      "mfcc_first_derivative_mean_1\n",
      "mfcc_mean_9\n",
      "mfcc_mean_10\n",
      "mfcc_skewness_9\n",
      "mfcc_first_derivative_mean_9\n",
      "mfcc_std_6\n",
      "f0_contour_first_derivative_std\n",
      "mfcc_first_derivative_std_15\n",
      "mfcc_first_derivative_mean_5\n",
      "mfcc_first_derivative_mean_15\n",
      "mfcc_max_8\n",
      "mfcc_mean_2\n",
      "mfcc_first_derivative_mean_7\n",
      "mfcc_q3_q1_range_6\n",
      "mfcc_kurtosis_10\n",
      "zerocrossing_rate\n",
      "mfcc_skewness_10\n",
      "mfcc_first_derivative_mean_13\n",
      "mfcc_first_derivative_std_13\n",
      "mfcc_max_14\n",
      "mfcc_first_derivative_mean_12\n",
      "f2\n",
      "mfcc_first_derivative_std_12\n",
      "mfcc_first_derivative_std_4\n",
      "mfcc_skewness_16\n",
      "mfcc_q3_q1_range_4\n",
      "mfcc_max_9\n",
      "mfcc_kurtosis_9\n",
      "mfcc_first_derivative_std_14\n",
      "mfcc_first_derivative_std_6\n",
      "mfcc_max_5\n",
      "f1\n",
      "mfcc_first_derivative_mean_6\n",
      "spectral_centroid_first_derivative_mean\n",
      "mfcc_kurtosis_15\n",
      "spectral_centroid_max\n",
      "mfcc_min_16\n",
      "mfcc_min_5\n",
      "mfcc_skewness_13\n",
      "mfcc_kurtosis_12\n",
      "mfcc_kurtosis_14\n",
      "mfcc_max_6\n",
      "mfcc_skewness_14\n",
      "mfcc_first_derivative_std_9\n",
      "mfcc_first_derivative_mean_11\n",
      "mfcc_std_4\n",
      "mfcc_min_12\n",
      "mfcc_max_13\n",
      "f4\n",
      "spectral_centroid_kurtosis\n",
      "f0_contour_min\n",
      "mfcc_skewness_8\n",
      "mfcc_min_14\n",
      "mfcc_max_7\n",
      "mfcc_q3_q1_range_8\n",
      "mfcc_max_11\n",
      "spectral_centroid_std\n",
      "mfcc_kurtosis_8\n",
      "mfcc_kurtosis_6\n",
      "mfcc_first_derivative_std_7\n",
      "f0_contour_first_derivative_mean\n",
      "mfcc_skewness_15\n",
      "mfcc_skewness_5\n",
      "mfcc_kurtosis_16\n",
      "mfcc_max_10\n",
      "mfcc_max_15\n"
     ]
    }
   ],
   "source": [
    "# Best results overall\n",
    "# feature names to drop (based on MI decomposition method)\n",
    "res = mutual_info_classif(res_dataframe, target, random_state=42, n_neighbors=30)\n",
    "df_res = pd.Series(res)\n",
    "sorted_df = df_res.sort_values(ascending=False)\n",
    "index_to_del : pd.Int64Index = sorted_df[sorted_df < 0.1].index\n",
    "print(index_to_del.shape)\n",
    "columns_to_del = [res_dataframe.columns[i] for i in index_to_del]\n",
    "for c in columns_to_del:\n",
    "    print(c)\n",
    "# features_cleared_df = res_dataframe.drop(columns=)\n",
    "# features_cleared_df"
   ],
   "metadata": {
    "collapsed": false,
    "pycharm": {
     "name": "#%%\n"
    }
   }
  },
  {
   "cell_type": "code",
   "execution_count": 53,
   "outputs": [
    {
     "data": {
      "text/plain": "           0          1           2         3          4          5    \\\n0    23.967547  55.219171  189.119143  1.895990   1.668783  27.951188   \n1    27.045372  71.229321  259.841201  2.297994   3.420751  29.417767   \n2     8.724462  32.011158  209.613961  4.010852  17.134221  19.592358   \n3    28.523561  74.396412  260.546090  2.255366   3.177505  36.652883   \n4    10.253963  40.387550  238.921752  3.916850  14.445161  36.281940   \n..         ...        ...         ...       ...        ...        ...   \n854   0.000000   0.000000    0.000000  0.000000  -3.000000   0.000000   \n855  11.937603  40.763433  176.104431  3.170061   8.235236  19.115677   \n856  80.651854  98.998965  237.845414  0.422148  -1.802225  40.416811   \n857  47.841428  76.043443  200.364790  0.980022  -0.996395  25.452955   \n858  26.950171  76.005175  256.578877  2.471335   4.125015  40.730591   \n\n            6          7             8            9    ...        110  \\\n0      0.000000 -50.789417  10165.480300  4205.444653  ...  15.766265   \n1      0.000000 -52.897926   8238.646944  4965.301582  ...  23.343090   \n2      0.000000 -57.779049  10573.577648  2372.872379  ...  18.296813   \n3      0.000000 -50.261565   8503.507631  5009.949377  ...  16.871922   \n4      0.000000 -46.754228  10341.238850  4201.536338  ...  31.643030   \n..          ...        ...           ...          ...  ...        ...   \n854    0.000000 -49.614353   8274.023605  4547.170923  ...  38.190409   \n855    0.000000 -50.706402   9779.106757  4538.508236  ...  18.682658   \n856  197.180354 -55.082888  10840.344698  3517.150012  ...  14.759832   \n857  151.191570 -55.624970  10787.963161  2634.707493  ...  16.418184   \n858    0.000000 -54.222938   8449.822473  5021.340911  ...  13.198442   \n\n           111        112        113        114        115        116  \\\n0     6.817384  10.575198   5.019678  18.639672   4.687609   3.798230   \n1     6.969563  17.334488   9.290317   6.188273   5.173421   7.520164   \n2    12.634435  14.232127  10.144253  10.668671  12.063463   9.836006   \n3     4.114951  18.549006   9.859148   6.460007   3.631738   6.366929   \n4     9.679077  11.189731   7.478577  15.093403   6.569043   5.774323   \n..         ...        ...        ...        ...        ...        ...   \n854  11.919920  19.566975  20.034756  26.156811   9.096250  10.394791   \n855  14.766144  11.331717  14.411584  21.332257   6.488466   8.219062   \n856   9.662964  14.929921   8.962712  10.297725   8.585087   6.362794   \n857  10.921530  20.866169  14.092030  12.207006   9.323483   9.331396   \n858   6.266708  12.049806   9.736087   9.728432   6.216406   8.621113   \n\n           117        118       119  \n0     6.998048   4.952859  7.033751  \n1     4.676119   8.310646  5.102108  \n2    11.097036  10.172810  9.805441  \n3     4.032610  11.482723  7.560311  \n4     6.686566  10.186784  7.822491  \n..         ...        ...       ...  \n854  12.184984   5.814711  5.547981  \n855  12.793879  12.382707  8.606090  \n856  13.534030   7.544165  9.226057  \n857   9.245415  10.395979  9.108313  \n858   9.457102   5.700551  5.091954  \n\n[859 rows x 120 columns]",
      "text/html": "<div>\n<style scoped>\n    .dataframe tbody tr th:only-of-type {\n        vertical-align: middle;\n    }\n\n    .dataframe tbody tr th {\n        vertical-align: top;\n    }\n\n    .dataframe thead th {\n        text-align: right;\n    }\n</style>\n<table border=\"1\" class=\"dataframe\">\n  <thead>\n    <tr style=\"text-align: right;\">\n      <th></th>\n      <th>0</th>\n      <th>1</th>\n      <th>2</th>\n      <th>3</th>\n      <th>4</th>\n      <th>5</th>\n      <th>6</th>\n      <th>7</th>\n      <th>8</th>\n      <th>9</th>\n      <th>...</th>\n      <th>110</th>\n      <th>111</th>\n      <th>112</th>\n      <th>113</th>\n      <th>114</th>\n      <th>115</th>\n      <th>116</th>\n      <th>117</th>\n      <th>118</th>\n      <th>119</th>\n    </tr>\n  </thead>\n  <tbody>\n    <tr>\n      <th>0</th>\n      <td>23.967547</td>\n      <td>55.219171</td>\n      <td>189.119143</td>\n      <td>1.895990</td>\n      <td>1.668783</td>\n      <td>27.951188</td>\n      <td>0.000000</td>\n      <td>-50.789417</td>\n      <td>10165.480300</td>\n      <td>4205.444653</td>\n      <td>...</td>\n      <td>15.766265</td>\n      <td>6.817384</td>\n      <td>10.575198</td>\n      <td>5.019678</td>\n      <td>18.639672</td>\n      <td>4.687609</td>\n      <td>3.798230</td>\n      <td>6.998048</td>\n      <td>4.952859</td>\n      <td>7.033751</td>\n    </tr>\n    <tr>\n      <th>1</th>\n      <td>27.045372</td>\n      <td>71.229321</td>\n      <td>259.841201</td>\n      <td>2.297994</td>\n      <td>3.420751</td>\n      <td>29.417767</td>\n      <td>0.000000</td>\n      <td>-52.897926</td>\n      <td>8238.646944</td>\n      <td>4965.301582</td>\n      <td>...</td>\n      <td>23.343090</td>\n      <td>6.969563</td>\n      <td>17.334488</td>\n      <td>9.290317</td>\n      <td>6.188273</td>\n      <td>5.173421</td>\n      <td>7.520164</td>\n      <td>4.676119</td>\n      <td>8.310646</td>\n      <td>5.102108</td>\n    </tr>\n    <tr>\n      <th>2</th>\n      <td>8.724462</td>\n      <td>32.011158</td>\n      <td>209.613961</td>\n      <td>4.010852</td>\n      <td>17.134221</td>\n      <td>19.592358</td>\n      <td>0.000000</td>\n      <td>-57.779049</td>\n      <td>10573.577648</td>\n      <td>2372.872379</td>\n      <td>...</td>\n      <td>18.296813</td>\n      <td>12.634435</td>\n      <td>14.232127</td>\n      <td>10.144253</td>\n      <td>10.668671</td>\n      <td>12.063463</td>\n      <td>9.836006</td>\n      <td>11.097036</td>\n      <td>10.172810</td>\n      <td>9.805441</td>\n    </tr>\n    <tr>\n      <th>3</th>\n      <td>28.523561</td>\n      <td>74.396412</td>\n      <td>260.546090</td>\n      <td>2.255366</td>\n      <td>3.177505</td>\n      <td>36.652883</td>\n      <td>0.000000</td>\n      <td>-50.261565</td>\n      <td>8503.507631</td>\n      <td>5009.949377</td>\n      <td>...</td>\n      <td>16.871922</td>\n      <td>4.114951</td>\n      <td>18.549006</td>\n      <td>9.859148</td>\n      <td>6.460007</td>\n      <td>3.631738</td>\n      <td>6.366929</td>\n      <td>4.032610</td>\n      <td>11.482723</td>\n      <td>7.560311</td>\n    </tr>\n    <tr>\n      <th>4</th>\n      <td>10.253963</td>\n      <td>40.387550</td>\n      <td>238.921752</td>\n      <td>3.916850</td>\n      <td>14.445161</td>\n      <td>36.281940</td>\n      <td>0.000000</td>\n      <td>-46.754228</td>\n      <td>10341.238850</td>\n      <td>4201.536338</td>\n      <td>...</td>\n      <td>31.643030</td>\n      <td>9.679077</td>\n      <td>11.189731</td>\n      <td>7.478577</td>\n      <td>15.093403</td>\n      <td>6.569043</td>\n      <td>5.774323</td>\n      <td>6.686566</td>\n      <td>10.186784</td>\n      <td>7.822491</td>\n    </tr>\n    <tr>\n      <th>...</th>\n      <td>...</td>\n      <td>...</td>\n      <td>...</td>\n      <td>...</td>\n      <td>...</td>\n      <td>...</td>\n      <td>...</td>\n      <td>...</td>\n      <td>...</td>\n      <td>...</td>\n      <td>...</td>\n      <td>...</td>\n      <td>...</td>\n      <td>...</td>\n      <td>...</td>\n      <td>...</td>\n      <td>...</td>\n      <td>...</td>\n      <td>...</td>\n      <td>...</td>\n      <td>...</td>\n    </tr>\n    <tr>\n      <th>854</th>\n      <td>0.000000</td>\n      <td>0.000000</td>\n      <td>0.000000</td>\n      <td>0.000000</td>\n      <td>-3.000000</td>\n      <td>0.000000</td>\n      <td>0.000000</td>\n      <td>-49.614353</td>\n      <td>8274.023605</td>\n      <td>4547.170923</td>\n      <td>...</td>\n      <td>38.190409</td>\n      <td>11.919920</td>\n      <td>19.566975</td>\n      <td>20.034756</td>\n      <td>26.156811</td>\n      <td>9.096250</td>\n      <td>10.394791</td>\n      <td>12.184984</td>\n      <td>5.814711</td>\n      <td>5.547981</td>\n    </tr>\n    <tr>\n      <th>855</th>\n      <td>11.937603</td>\n      <td>40.763433</td>\n      <td>176.104431</td>\n      <td>3.170061</td>\n      <td>8.235236</td>\n      <td>19.115677</td>\n      <td>0.000000</td>\n      <td>-50.706402</td>\n      <td>9779.106757</td>\n      <td>4538.508236</td>\n      <td>...</td>\n      <td>18.682658</td>\n      <td>14.766144</td>\n      <td>11.331717</td>\n      <td>14.411584</td>\n      <td>21.332257</td>\n      <td>6.488466</td>\n      <td>8.219062</td>\n      <td>12.793879</td>\n      <td>12.382707</td>\n      <td>8.606090</td>\n    </tr>\n    <tr>\n      <th>856</th>\n      <td>80.651854</td>\n      <td>98.998965</td>\n      <td>237.845414</td>\n      <td>0.422148</td>\n      <td>-1.802225</td>\n      <td>40.416811</td>\n      <td>197.180354</td>\n      <td>-55.082888</td>\n      <td>10840.344698</td>\n      <td>3517.150012</td>\n      <td>...</td>\n      <td>14.759832</td>\n      <td>9.662964</td>\n      <td>14.929921</td>\n      <td>8.962712</td>\n      <td>10.297725</td>\n      <td>8.585087</td>\n      <td>6.362794</td>\n      <td>13.534030</td>\n      <td>7.544165</td>\n      <td>9.226057</td>\n    </tr>\n    <tr>\n      <th>857</th>\n      <td>47.841428</td>\n      <td>76.043443</td>\n      <td>200.364790</td>\n      <td>0.980022</td>\n      <td>-0.996395</td>\n      <td>25.452955</td>\n      <td>151.191570</td>\n      <td>-55.624970</td>\n      <td>10787.963161</td>\n      <td>2634.707493</td>\n      <td>...</td>\n      <td>16.418184</td>\n      <td>10.921530</td>\n      <td>20.866169</td>\n      <td>14.092030</td>\n      <td>12.207006</td>\n      <td>9.323483</td>\n      <td>9.331396</td>\n      <td>9.245415</td>\n      <td>10.395979</td>\n      <td>9.108313</td>\n    </tr>\n    <tr>\n      <th>858</th>\n      <td>26.950171</td>\n      <td>76.005175</td>\n      <td>256.578877</td>\n      <td>2.471335</td>\n      <td>4.125015</td>\n      <td>40.730591</td>\n      <td>0.000000</td>\n      <td>-54.222938</td>\n      <td>8449.822473</td>\n      <td>5021.340911</td>\n      <td>...</td>\n      <td>13.198442</td>\n      <td>6.266708</td>\n      <td>12.049806</td>\n      <td>9.736087</td>\n      <td>9.728432</td>\n      <td>6.216406</td>\n      <td>8.621113</td>\n      <td>9.457102</td>\n      <td>5.700551</td>\n      <td>5.091954</td>\n    </tr>\n  </tbody>\n</table>\n<p>859 rows × 120 columns</p>\n</div>"
     },
     "execution_count": 53,
     "metadata": {},
     "output_type": "execute_result"
    }
   ],
   "source": [
    "# k = 90 for 1st set\n",
    "# k = 110 for 2nd set\n",
    "# k = 200\n",
    "select_st = SelectKBest(mutual_info_classif, k=120)\n",
    "features_cleared_df = select_st.fit_transform(res_dataframe, target)\n",
    "pd.DataFrame(features_cleared_df)"
   ],
   "metadata": {
    "collapsed": false,
    "pycharm": {
     "name": "#%%\n"
    }
   }
  },
  {
   "cell_type": "code",
   "execution_count": 39,
   "outputs": [
    {
     "name": "stdout",
     "output_type": "stream",
     "text": [
      "Components: \n",
      "mle\n",
      "Var: \n",
      "[9.31892957e-01 3.06630407e-02 1.53402566e-02 9.76171428e-03\n",
      " 7.03184323e-03 1.43844174e-03 1.03285113e-03 8.94161627e-04\n",
      " 6.89213744e-04 5.31252539e-04 4.34096033e-04 1.41510449e-04\n",
      " 5.02834704e-05 3.14587058e-05 1.69566299e-05 1.13799716e-05\n",
      " 5.50875443e-06 3.63428612e-06 3.31432591e-06 2.76885923e-06\n",
      " 2.03455642e-06 1.64424169e-06 1.55359180e-06 1.36903476e-06\n",
      " 1.27255987e-06 1.13541670e-06 1.09165650e-06 1.02807865e-06\n",
      " 9.59402057e-07 8.35611023e-07 7.67073798e-07 7.22557666e-07\n",
      " 6.10982627e-07 5.79762035e-07 5.59130410e-07 4.97779244e-07\n",
      " 4.64097777e-07 4.29026479e-07 4.19806483e-07 3.83149428e-07\n",
      " 3.48465844e-07 3.15226987e-07 3.02643730e-07 2.82474098e-07\n",
      " 2.77690634e-07 2.57219402e-07 2.47982052e-07 2.35972545e-07\n",
      " 2.24140561e-07 2.03176403e-07 1.93094973e-07 1.82324773e-07\n",
      " 1.74894116e-07 1.52160724e-07 1.32815505e-07 1.23353155e-07\n",
      " 1.14323505e-07 1.04079091e-07 9.82803279e-08 8.55237552e-08\n",
      " 8.33585098e-08 7.44160398e-08 7.06706902e-08 6.03891760e-08\n",
      " 5.24583233e-08 4.85007528e-08 4.15840121e-08 3.94790531e-08\n",
      " 3.79452163e-08 3.14198203e-08 2.94630572e-08 2.79215461e-08\n",
      " 2.67639838e-08 2.37822466e-08 2.12489558e-08 2.00345346e-08\n",
      " 1.80752647e-08 1.77683204e-08 1.55229320e-08 1.29140122e-08\n",
      " 1.19989085e-08 1.05598009e-08 1.03121533e-08 9.44922766e-09\n",
      " 8.99468209e-09 8.13339433e-09 7.67168939e-09 6.96630863e-09\n",
      " 6.65106142e-09 6.21531439e-09 5.96613259e-09 5.50549097e-09\n",
      " 5.23898783e-09 4.63363356e-09 4.62031653e-09 4.35499236e-09\n",
      " 3.98008703e-09 3.63675195e-09 3.28649184e-09 3.19026437e-09\n",
      " 2.96719670e-09 2.76582282e-09 2.71812517e-09 2.68629576e-09\n",
      " 2.52436568e-09 2.50469114e-09 2.21884764e-09 2.16354217e-09\n",
      " 2.05448600e-09 1.91442444e-09 1.85839670e-09 1.73285561e-09\n",
      " 1.67094592e-09 1.57671841e-09 1.51849965e-09 1.49222279e-09\n",
      " 1.43760493e-09 1.39938252e-09 1.35595643e-09 1.32000476e-09\n",
      " 1.20246133e-09 1.17156190e-09 1.14424338e-09 1.08867895e-09\n",
      " 9.55733735e-10 9.51816972e-10 9.15409637e-10 8.91453505e-10\n",
      " 8.50493334e-10 7.95721939e-10 7.46219873e-10 7.13329799e-10\n",
      " 6.63598466e-10 5.96270494e-10 5.69420610e-10 5.36304950e-10\n",
      " 4.86598256e-10 4.57753021e-10 4.45426449e-10 4.36849453e-10\n",
      " 3.79699376e-10 3.76151517e-10 3.36039433e-10 2.97159852e-10\n",
      " 2.22013896e-10 1.76212439e-10 1.30645392e-10 1.11718637e-10\n",
      " 1.00417991e-10 8.99232727e-11 6.62322643e-11 5.12141856e-11\n",
      " 4.41360576e-11 1.68156028e-11 1.60549097e-11 1.30725107e-11\n",
      " 4.67342242e-12 3.76224322e-12 2.70999907e-12 2.35491867e-12\n",
      " 1.72571298e-12 1.68186904e-12 1.42827747e-12 1.32104435e-12\n",
      " 1.16144405e-12 1.10564260e-12 8.84134819e-13 8.61749252e-13\n",
      " 7.72966965e-13 7.13923740e-13 5.90086137e-13 5.50720967e-13\n",
      " 4.79115300e-13 3.98557321e-13 2.03251739e-13 2.92497384e-14\n",
      " 1.18634156e-14 2.58548220e-19]\n",
      "Dim of data: \n"
     ]
    },
    {
     "data": {
      "text/plain": "          0         1         2         3         4         5         6    \\\n0   -0.654417 -0.718141  0.030132 -1.072910  0.708123 -0.020596 -0.017338   \n1   -0.960351 -0.933735  0.608160  0.640322 -1.252787 -0.458721 -0.934445   \n2    2.130659 -0.445539 -1.069364  2.001907  0.002100 -0.344728  0.760424   \n3   -0.826648 -1.030432  0.703325  1.846412 -0.696029 -0.377974 -0.469339   \n4    0.224253  0.367593  1.689470  1.139996  0.136001  0.675708 -0.211493   \n..        ...       ...       ...       ...       ...       ...       ...   \n854 -0.614313 -1.181972 -0.197831 -0.360738 -1.427620 -0.512256 -0.997067   \n855 -0.193450  0.371001  2.198106 -0.610272 -0.579873  0.303826  0.213992   \n856 -0.168456  1.562769 -0.109923  0.865072 -0.549880  0.162355  0.367857   \n857  2.375942  0.096376 -0.192177 -0.799078 -0.359728  1.401976  0.695170   \n858  0.191515 -1.845355  1.169568 -1.479075 -0.773700 -0.166918 -0.645551   \n\n          7         8         9    ...       168       169       170  \\\n0   -0.427760 -1.085239  0.421242  ... -0.437299 -0.381024 -0.126177   \n1   -0.248745  0.559189 -0.358836  ... -0.735460  0.436552  0.642516   \n2    0.515909 -0.302349 -1.300116  ... -1.014061 -0.712787 -1.197466   \n3    0.938330 -0.320545  1.094599  ... -0.780647  0.290459  0.547129   \n4   -0.738881  0.135077  1.742833  ... -0.149573  0.876098  0.317102   \n..        ...       ...       ...  ...       ...       ...       ...   \n854 -0.836648  0.637792  2.093875  ... -0.419476 -0.593385  1.493381   \n855 -0.150671 -0.487775  1.583659  ... -0.349163  0.218169 -0.310940   \n856 -0.156663 -0.076021 -0.139445  ...  0.424871  0.301903  0.788551   \n857  1.090006 -0.552889 -0.526679  ...  0.479583 -2.924415 -0.018133   \n858  1.352263  0.537044 -0.186860  ...  0.579757 -0.914104 -0.384325   \n\n          171       172       173       174       175       176       177  \n0   -0.536485  0.179708 -0.767484 -0.257893 -0.294117  0.220843 -1.061629  \n1    0.032466 -0.472319 -0.327293  2.469069 -0.011533  0.354069  0.329528  \n2   -0.544358 -1.696698 -0.350922  0.681480 -1.449786 -0.447226 -0.741498  \n3    0.114253  0.444668  0.542399  2.306907 -0.170407 -0.740525  0.703598  \n4   -0.119419  0.075978 -0.108216 -0.775660 -0.725422 -0.774697 -1.059167  \n..        ...       ...       ...       ...       ...       ...       ...  \n854 -0.106604  0.350686 -0.607659 -0.108891 -0.009390  0.306686  1.029953  \n855  1.234166 -0.170619 -0.965031 -0.471036 -0.031749 -0.476844  1.173416  \n856 -0.019423  0.644747  0.001294  2.049701 -1.184725 -1.564025  1.264369  \n857  1.367868 -1.141636  1.469116  1.142611  0.832079 -0.312097  0.053825  \n858  0.901765  0.045407  0.944551 -1.142491 -1.193140  0.754010  1.096326  \n\n[859 rows x 178 columns]",
      "text/html": "<div>\n<style scoped>\n    .dataframe tbody tr th:only-of-type {\n        vertical-align: middle;\n    }\n\n    .dataframe tbody tr th {\n        vertical-align: top;\n    }\n\n    .dataframe thead th {\n        text-align: right;\n    }\n</style>\n<table border=\"1\" class=\"dataframe\">\n  <thead>\n    <tr style=\"text-align: right;\">\n      <th></th>\n      <th>0</th>\n      <th>1</th>\n      <th>2</th>\n      <th>3</th>\n      <th>4</th>\n      <th>5</th>\n      <th>6</th>\n      <th>7</th>\n      <th>8</th>\n      <th>9</th>\n      <th>...</th>\n      <th>168</th>\n      <th>169</th>\n      <th>170</th>\n      <th>171</th>\n      <th>172</th>\n      <th>173</th>\n      <th>174</th>\n      <th>175</th>\n      <th>176</th>\n      <th>177</th>\n    </tr>\n  </thead>\n  <tbody>\n    <tr>\n      <th>0</th>\n      <td>-0.654417</td>\n      <td>-0.718141</td>\n      <td>0.030132</td>\n      <td>-1.072910</td>\n      <td>0.708123</td>\n      <td>-0.020596</td>\n      <td>-0.017338</td>\n      <td>-0.427760</td>\n      <td>-1.085239</td>\n      <td>0.421242</td>\n      <td>...</td>\n      <td>-0.437299</td>\n      <td>-0.381024</td>\n      <td>-0.126177</td>\n      <td>-0.536485</td>\n      <td>0.179708</td>\n      <td>-0.767484</td>\n      <td>-0.257893</td>\n      <td>-0.294117</td>\n      <td>0.220843</td>\n      <td>-1.061629</td>\n    </tr>\n    <tr>\n      <th>1</th>\n      <td>-0.960351</td>\n      <td>-0.933735</td>\n      <td>0.608160</td>\n      <td>0.640322</td>\n      <td>-1.252787</td>\n      <td>-0.458721</td>\n      <td>-0.934445</td>\n      <td>-0.248745</td>\n      <td>0.559189</td>\n      <td>-0.358836</td>\n      <td>...</td>\n      <td>-0.735460</td>\n      <td>0.436552</td>\n      <td>0.642516</td>\n      <td>0.032466</td>\n      <td>-0.472319</td>\n      <td>-0.327293</td>\n      <td>2.469069</td>\n      <td>-0.011533</td>\n      <td>0.354069</td>\n      <td>0.329528</td>\n    </tr>\n    <tr>\n      <th>2</th>\n      <td>2.130659</td>\n      <td>-0.445539</td>\n      <td>-1.069364</td>\n      <td>2.001907</td>\n      <td>0.002100</td>\n      <td>-0.344728</td>\n      <td>0.760424</td>\n      <td>0.515909</td>\n      <td>-0.302349</td>\n      <td>-1.300116</td>\n      <td>...</td>\n      <td>-1.014061</td>\n      <td>-0.712787</td>\n      <td>-1.197466</td>\n      <td>-0.544358</td>\n      <td>-1.696698</td>\n      <td>-0.350922</td>\n      <td>0.681480</td>\n      <td>-1.449786</td>\n      <td>-0.447226</td>\n      <td>-0.741498</td>\n    </tr>\n    <tr>\n      <th>3</th>\n      <td>-0.826648</td>\n      <td>-1.030432</td>\n      <td>0.703325</td>\n      <td>1.846412</td>\n      <td>-0.696029</td>\n      <td>-0.377974</td>\n      <td>-0.469339</td>\n      <td>0.938330</td>\n      <td>-0.320545</td>\n      <td>1.094599</td>\n      <td>...</td>\n      <td>-0.780647</td>\n      <td>0.290459</td>\n      <td>0.547129</td>\n      <td>0.114253</td>\n      <td>0.444668</td>\n      <td>0.542399</td>\n      <td>2.306907</td>\n      <td>-0.170407</td>\n      <td>-0.740525</td>\n      <td>0.703598</td>\n    </tr>\n    <tr>\n      <th>4</th>\n      <td>0.224253</td>\n      <td>0.367593</td>\n      <td>1.689470</td>\n      <td>1.139996</td>\n      <td>0.136001</td>\n      <td>0.675708</td>\n      <td>-0.211493</td>\n      <td>-0.738881</td>\n      <td>0.135077</td>\n      <td>1.742833</td>\n      <td>...</td>\n      <td>-0.149573</td>\n      <td>0.876098</td>\n      <td>0.317102</td>\n      <td>-0.119419</td>\n      <td>0.075978</td>\n      <td>-0.108216</td>\n      <td>-0.775660</td>\n      <td>-0.725422</td>\n      <td>-0.774697</td>\n      <td>-1.059167</td>\n    </tr>\n    <tr>\n      <th>...</th>\n      <td>...</td>\n      <td>...</td>\n      <td>...</td>\n      <td>...</td>\n      <td>...</td>\n      <td>...</td>\n      <td>...</td>\n      <td>...</td>\n      <td>...</td>\n      <td>...</td>\n      <td>...</td>\n      <td>...</td>\n      <td>...</td>\n      <td>...</td>\n      <td>...</td>\n      <td>...</td>\n      <td>...</td>\n      <td>...</td>\n      <td>...</td>\n      <td>...</td>\n      <td>...</td>\n    </tr>\n    <tr>\n      <th>854</th>\n      <td>-0.614313</td>\n      <td>-1.181972</td>\n      <td>-0.197831</td>\n      <td>-0.360738</td>\n      <td>-1.427620</td>\n      <td>-0.512256</td>\n      <td>-0.997067</td>\n      <td>-0.836648</td>\n      <td>0.637792</td>\n      <td>2.093875</td>\n      <td>...</td>\n      <td>-0.419476</td>\n      <td>-0.593385</td>\n      <td>1.493381</td>\n      <td>-0.106604</td>\n      <td>0.350686</td>\n      <td>-0.607659</td>\n      <td>-0.108891</td>\n      <td>-0.009390</td>\n      <td>0.306686</td>\n      <td>1.029953</td>\n    </tr>\n    <tr>\n      <th>855</th>\n      <td>-0.193450</td>\n      <td>0.371001</td>\n      <td>2.198106</td>\n      <td>-0.610272</td>\n      <td>-0.579873</td>\n      <td>0.303826</td>\n      <td>0.213992</td>\n      <td>-0.150671</td>\n      <td>-0.487775</td>\n      <td>1.583659</td>\n      <td>...</td>\n      <td>-0.349163</td>\n      <td>0.218169</td>\n      <td>-0.310940</td>\n      <td>1.234166</td>\n      <td>-0.170619</td>\n      <td>-0.965031</td>\n      <td>-0.471036</td>\n      <td>-0.031749</td>\n      <td>-0.476844</td>\n      <td>1.173416</td>\n    </tr>\n    <tr>\n      <th>856</th>\n      <td>-0.168456</td>\n      <td>1.562769</td>\n      <td>-0.109923</td>\n      <td>0.865072</td>\n      <td>-0.549880</td>\n      <td>0.162355</td>\n      <td>0.367857</td>\n      <td>-0.156663</td>\n      <td>-0.076021</td>\n      <td>-0.139445</td>\n      <td>...</td>\n      <td>0.424871</td>\n      <td>0.301903</td>\n      <td>0.788551</td>\n      <td>-0.019423</td>\n      <td>0.644747</td>\n      <td>0.001294</td>\n      <td>2.049701</td>\n      <td>-1.184725</td>\n      <td>-1.564025</td>\n      <td>1.264369</td>\n    </tr>\n    <tr>\n      <th>857</th>\n      <td>2.375942</td>\n      <td>0.096376</td>\n      <td>-0.192177</td>\n      <td>-0.799078</td>\n      <td>-0.359728</td>\n      <td>1.401976</td>\n      <td>0.695170</td>\n      <td>1.090006</td>\n      <td>-0.552889</td>\n      <td>-0.526679</td>\n      <td>...</td>\n      <td>0.479583</td>\n      <td>-2.924415</td>\n      <td>-0.018133</td>\n      <td>1.367868</td>\n      <td>-1.141636</td>\n      <td>1.469116</td>\n      <td>1.142611</td>\n      <td>0.832079</td>\n      <td>-0.312097</td>\n      <td>0.053825</td>\n    </tr>\n    <tr>\n      <th>858</th>\n      <td>0.191515</td>\n      <td>-1.845355</td>\n      <td>1.169568</td>\n      <td>-1.479075</td>\n      <td>-0.773700</td>\n      <td>-0.166918</td>\n      <td>-0.645551</td>\n      <td>1.352263</td>\n      <td>0.537044</td>\n      <td>-0.186860</td>\n      <td>...</td>\n      <td>0.579757</td>\n      <td>-0.914104</td>\n      <td>-0.384325</td>\n      <td>0.901765</td>\n      <td>0.045407</td>\n      <td>0.944551</td>\n      <td>-1.142491</td>\n      <td>-1.193140</td>\n      <td>0.754010</td>\n      <td>1.096326</td>\n    </tr>\n  </tbody>\n</table>\n<p>859 rows × 178 columns</p>\n</div>"
     },
     "execution_count": 39,
     "metadata": {},
     "output_type": "execute_result"
    }
   ],
   "source": [
    "pca_ = PCA(n_components='mle', whiten=True, random_state=42)\n",
    "features_cleared_df = pca_.fit_transform(res_dataframe)\n",
    "print(\"Components: \")\n",
    "print(pca_.n_components)\n",
    "print(\"Var: \")\n",
    "print(pca_.explained_variance_ratio_)\n",
    "print(\"Dim of data: \")\n",
    "pd.DataFrame(features_cleared_df)"
   ],
   "metadata": {
    "collapsed": false,
    "pycharm": {
     "name": "#%%\n"
    }
   }
  },
  {
   "cell_type": "markdown",
   "source": [
    "Classification section\n",
    "\n",
    "Here we try to choose the best classifier and params for it"
   ],
   "metadata": {
    "collapsed": false
   }
  },
  {
   "cell_type": "code",
   "execution_count": null,
   "outputs": [],
   "source": [
    "n_classes = 5\n",
    "classifier = GaussianMixture(n_components=n_classes, covariance_type='full', max_iter=100)\n",
    "cv = StratifiedKFold(n_splits = 5, shuffle=True, random_state=241)\n",
    "X = scale(features_cleared_df)\n",
    "y = target\n",
    "conf_matrix_list_of_arrays = []\n",
    "for train_index, test_index in cv.split(X, y):\n",
    "   X_train, X_test = X[train_index], X[test_index]\n",
    "   y_train, y_test = y[train_index], y[test_index]\n",
    "   classifier.means_ = np.array([X_train[y_train == i].mean(axis=0) for i in range(1, n_classes + 1)])\n",
    "   classifier.fit(X_train)\n",
    "   y_train_pred = classifier.predict(X_test)\n",
    "   print(y_train_pred.shape)\n",
    "   conf_matrix = confusion_matrix(y_test, y_train_pred)\n",
    "   conf_matrix_list_of_arrays.append(conf_matrix)\n",
    "np.mean(conf_matrix_list_of_arrays, axis=0)"
   ],
   "metadata": {
    "collapsed": false,
    "pycharm": {
     "name": "#%%\n"
    }
   }
  },
  {
   "cell_type": "code",
   "execution_count": 45,
   "outputs": [
    {
     "data": {
      "text/plain": "array([[29.2,  0.2,  2.4,  0. ,  2.6],\n       [ 0. , 34.6,  0.6, 13.4,  3.2],\n       [ 4.4,  3.4, 24. ,  0. ,  2.6],\n       [ 0. , 16.2,  0. ,  0.4,  0.4],\n       [ 1. , 12.8,  4.8,  0.4, 15.2]])"
     },
     "execution_count": 45,
     "metadata": {},
     "output_type": "execute_result"
    }
   ],
   "source": [
    "X = scale(features_cleared_df)\n",
    "estimator_ = xgb.XGBClassifier()\n",
    "# y_pred = cross_val_predict(estimator_, X, target, cv = cv_, n_jobs=-1, verbose=2)\n",
    "# conf_mat = confusion_matrix(target, y_pred)\n",
    "# print(conf_mat)\n",
    "get_mean_conf_matrix(estimator_, X, target)"
   ],
   "metadata": {
    "collapsed": false,
    "pycharm": {
     "name": "#%%\n"
    }
   }
  },
  {
   "cell_type": "code",
   "execution_count": null,
   "outputs": [],
   "source": [
    "X = scale(res_dataframe)\n",
    "cv = StratifiedKFold(n_splits = 5, shuffle=True, random_state=241)\n",
    "params = {\"max_depth\" : [3,5,7], \"n_estimators\" : [100, 200, 400]}\n",
    "print(params)\n",
    "estimator_ = GradientBoostingClassifier()\n",
    "gs = GridSearchCV(estimator_, params, cv=cv,scoring=\"accuracy\", verbose=2, n_jobs=-1)\n",
    "gs.fit(X, target)\n",
    "gs.cv_results_"
   ],
   "metadata": {
    "collapsed": false,
    "pycharm": {
     "name": "#%%\n"
    }
   }
  },
  {
   "cell_type": "code",
   "execution_count": 27,
   "outputs": [
    {
     "data": {
      "text/plain": "array([[27.6,  2.8,  3.6,  0. ,  0.4],\n       [ 1.4, 38.6,  0. , 10.4,  1.4],\n       [ 7. ,  6.8, 17. ,  0.8,  2.8],\n       [ 0. , 14.4,  0. ,  2. ,  0.6],\n       [ 2.2, 12.8,  2.4,  0.4, 16.4]])"
     },
     "execution_count": 27,
     "metadata": {},
     "output_type": "execute_result"
    }
   ],
   "source": [
    "X = scale(features_cleared_df)\n",
    "estimator_ = KNeighborsClassifier(n_neighbors=3)\n",
    "# y_pred = cross_val_predict(estimator_, X, target, cv = cv_, n_jobs=-1, verbose=2)\n",
    "# conf_mat = confusion_matrix(target, y_pred)\n",
    "# print(conf_mat)\n",
    "get_mean_conf_matrix(estimator_, X, target)"
   ],
   "metadata": {
    "collapsed": false,
    "pycharm": {
     "name": "#%%"
    }
   }
  },
  {
   "cell_type": "code",
   "execution_count": 25,
   "outputs": [
    {
     "data": {
      "text/plain": "array([[30.8,  0.6,  1.4,  0. ,  1.6],\n       [ 0.6, 41.4,  1.8,  3.2,  4.8],\n       [ 4.2,  2.4, 25. ,  0. ,  2.8],\n       [ 0.2, 14.2,  1. ,  0. ,  1.6],\n       [ 2.4, 12.2,  4.6,  0. , 15. ]])"
     },
     "execution_count": 25,
     "metadata": {},
     "output_type": "execute_result"
    }
   ],
   "source": [
    "# X = scale(res_dataframe)\n",
    "X = scale(features_cleared_df)\n",
    "cv_ = StratifiedKFold(n_splits = 5, shuffle=True, random_state=241)\n",
    "estimator_ = LinearSVC(C=0.01, dual=False)\n",
    "y_pred = cross_val_predict(estimator_, X, target, cv = cv_, n_jobs=-1, verbose=2)\n",
    "conf_mat = confusion_matrix(target, y_pred)\n",
    "print(conf_mat)"
   ],
   "metadata": {
    "collapsed": false,
    "pycharm": {
     "name": "#%%\n"
    }
   }
  },
  {
   "cell_type": "code",
   "execution_count": null,
   "outputs": [],
   "source": [
    "X = scale(features_cleared_df)\n",
    "cv = StratifiedKFold(n_splits = 5, shuffle=True, random_state=241)\n",
    "params = {\"C\" : 10 ** np.arange(-5, 5, dtype = float), \"penalty\" : [\"l1\", 'l2'],\n",
    "          'dual' : [True, False], 'loss' : ['hinge', 'squared_hinge'], 'multi_class' : ['ovr', 'crammer_singer']}\n",
    "print(params)\n",
    "estimator_ = LinearSVC()\n",
    "gs = GridSearchCV(estimator_, params, cv=cv,scoring=\"accuracy\", verbose=2, n_jobs=-1)\n",
    "gs.fit(X, target)\n",
    "print(gs.cv_results_)\n",
    "print(gs.best_params_)"
   ],
   "metadata": {
    "collapsed": false,
    "pycharm": {
     "name": "#%%\n"
    }
   }
  },
  {
   "cell_type": "code",
   "execution_count": 26,
   "outputs": [
    {
     "data": {
      "text/plain": "array([[27.2,  1.8,  4. ,  0. ,  1.4],\n       [ 0. , 49.6,  1. ,  0. ,  1.2],\n       [ 7.8,  5.6, 19. ,  0. ,  2. ],\n       [ 0. , 16.8,  0.2,  0. ,  0. ],\n       [ 2.6, 21.4,  7. ,  0. ,  3.2]])"
     },
     "execution_count": 26,
     "metadata": {},
     "output_type": "execute_result"
    }
   ],
   "source": [
    "X = scale(features_cleared_df)\n",
    "cv_ = StratifiedKFold(n_splits = 5, shuffle=True, random_state=241)\n",
    "estimator_ = LogisticRegression(\"l2\", C=0.001)\n",
    "y_pred = cross_val_predict(estimator_, X, target, cv = cv_, n_jobs=-1, verbose=2)\n",
    "conf_mat = confusion_matrix(target, y_pred)\n",
    "print(conf_mat)"
   ],
   "metadata": {
    "collapsed": false,
    "pycharm": {
     "name": "#%%\n"
    }
   }
  },
  {
   "cell_type": "code",
   "execution_count": 42,
   "outputs": [
    {
     "data": {
      "text/plain": "array([[24.6,  1.2,  5.8,  0. ,  2.8],\n       [ 0.6, 27.2,  2.8, 13.6,  7.6],\n       [ 6.8,  3.6, 15.8,  0.2,  8. ],\n       [ 0. , 15.6,  0.4,  0. ,  1. ],\n       [ 2.6,  9.6,  5.6,  1.8, 14.6]])"
     },
     "execution_count": 42,
     "metadata": {},
     "output_type": "execute_result"
    }
   ],
   "source": [
    "X = scale(features_cleared_df)\n",
    "cv_ = StratifiedKFold(n_splits = 5, shuffle=True, random_state=241)\n",
    "estimator_ = DecisionTreeClassifier(splitter=\"random\")\n",
    "get_mean_conf_matrix(estimator_, X, target)"
   ],
   "metadata": {
    "collapsed": false,
    "pycharm": {
     "name": "#%%\n"
    }
   }
  },
  {
   "cell_type": "code",
   "execution_count": 12,
   "outputs": [
    {
     "name": "stderr",
     "output_type": "stream",
     "text": [
      "[Parallel(n_jobs=-1)]: Using backend LokyBackend with 12 concurrent workers.\n",
      "[Parallel(n_jobs=-1)]: Done   3 out of   5 | elapsed:    1.6s remaining:    1.0s\n",
      "[Parallel(n_jobs=-1)]: Done   5 out of   5 | elapsed:    1.6s finished\n"
     ]
    },
    {
     "name": "stdout",
     "output_type": "stream",
     "text": [
      "[[152   1   9   0  10]\n",
      " [  0 169   2  76  12]\n",
      " [ 11  10 134   0  17]\n",
      " [  0  78   0   5   2]\n",
      " [  6  35  17  11 102]]\n"
     ]
    }
   ],
   "source": [
    "X = scale(features_cleared_df)\n",
    "cv_ = StratifiedKFold(n_splits = 5, shuffle=True, random_state=241)\n",
    "estimator_ = MLPClassifier(hidden_layer_sizes=100, learning_rate='adaptive', solver='adam')\n",
    "y_pred = cross_val_predict(estimator_, X, target, cv = cv_, n_jobs=-1, verbose=2)\n",
    "conf_mat = confusion_matrix(target, y_pred)\n",
    "print(conf_mat)"
   ],
   "metadata": {
    "collapsed": false,
    "pycharm": {
     "name": "#%%\n"
    }
   }
  },
  {
   "cell_type": "code",
   "execution_count": 13,
   "outputs": [
    {
     "name": "stderr",
     "output_type": "stream",
     "text": [
      "[Parallel(n_jobs=-1)]: Using backend LokyBackend with 12 concurrent workers.\n",
      "[Parallel(n_jobs=-1)]: Done   3 out of   5 | elapsed:    3.2s remaining:    2.1s\n",
      "[Parallel(n_jobs=-1)]: Done   5 out of   5 | elapsed:    3.3s finished\n"
     ]
    },
    {
     "name": "stdout",
     "output_type": "stream",
     "text": [
      "[[147   3  14   0   8]\n",
      " [  0 183   3  65   8]\n",
      " [ 18  16 129   0   9]\n",
      " [  0  82   1   0   2]\n",
      " [  1  65  26   0  79]]\n"
     ]
    }
   ],
   "source": [
    "X = scale(features_cleared_df)\n",
    "cv_ = StratifiedKFold(n_splits = 5, shuffle=True, random_state=241)\n",
    "estimator_ = RandomForestClassifier(n_estimators=500, min_samples_leaf=2, max_features = 'sqrt',\n",
    "                                  max_depth= 90, bootstrap=False, random_state=51)\n",
    "y_pred = cross_val_predict(estimator_, X, target, cv = cv_, n_jobs=-1, verbose=2)\n",
    "conf_mat = confusion_matrix(target, y_pred)\n",
    "print(conf_mat)"
   ],
   "metadata": {
    "collapsed": false,
    "pycharm": {
     "name": "#%%\n"
    }
   }
  },
  {
   "cell_type": "code",
   "execution_count": null,
   "outputs": [],
   "source": [
    "# Number of trees in random forest\n",
    "n_estimators = [int(x) for x in np.linspace(start = 200, stop = 2000, num = 10)]\n",
    "# Number of features to consider at every split\n",
    "max_features = ['auto', 'sqrt', 'log2']\n",
    "# Maximum number of levels in tree\n",
    "max_depth = [int(x) for x in np.linspace(10, 110, num = 11)]\n",
    "max_depth.append(None)\n",
    "# Minimum number of samples required to split a node\n",
    "min_samples_split = [2, 5, 10]\n",
    "# Minimum number of samples required at each leaf node\n",
    "min_samples_leaf = [1, 2, 4]\n",
    "# Method of selecting samples for training each tree\n",
    "bootstrap = [True, False]# Create the random grid\n",
    "criterion = ['gini', 'entropy']\n",
    "class_weight = ['balanced', 'balanced_subsample']\n",
    "random_grid = {'n_estimators': n_estimators,\n",
    "               'max_features': max_features,\n",
    "               'max_depth': max_depth,\n",
    "               'min_samples_split': min_samples_split,\n",
    "               'min_samples_leaf': min_samples_leaf,\n",
    "               'bootstrap': bootstrap,\n",
    "               'criterion' : criterion,\n",
    "               'class_weight' : class_weight,\n",
    "               }\n",
    "X = scale(features_cleared_df)\n",
    "estimator_ = RandomForestClassifier()\n",
    "gs = RandomizedSearchCV(estimator_, random_grid, n_iter = 500 ,cv=cv,scoring=\"accuracy\", verbose=2, n_jobs=-1)\n",
    "gs.fit(X, target)\n",
    "print(gs.cv_results_)\n",
    "print(gs.best_params_)"
   ],
   "metadata": {
    "collapsed": false,
    "pycharm": {
     "name": "#%%\n"
    }
   }
  },
  {
   "cell_type": "code",
   "execution_count": 51,
   "outputs": [
    {
     "data": {
      "text/plain": "0.6392084863321094"
     },
     "execution_count": 51,
     "metadata": {},
     "output_type": "execute_result"
    }
   ],
   "source": [
    "gs.best_score_"
   ],
   "metadata": {
    "collapsed": false,
    "pycharm": {
     "name": "#%%\n"
    }
   }
  },
  {
   "cell_type": "markdown",
   "source": [
    "# FINAL VERSION OF CLASSIFIER"
   ],
   "metadata": {
    "collapsed": false,
    "pycharm": {
     "name": "#%% md\n"
    }
   }
  },
  {
   "cell_type": "code",
   "execution_count": 57,
   "outputs": [
    {
     "name": "stderr",
     "output_type": "stream",
     "text": [
      "[Parallel(n_jobs=-1)]: Using backend LokyBackend with 12 concurrent workers.\n",
      "[Parallel(n_jobs=-1)]: Done   3 out of   5 | elapsed:   29.4s remaining:   19.5s\n",
      "[Parallel(n_jobs=-1)]: Done   5 out of   5 | elapsed:   29.7s finished\n"
     ]
    },
    {
     "name": "stdout",
     "output_type": "stream",
     "text": [
      "Min -  0.6976744186046512\n",
      "Max -  0.7719298245614035\n",
      "Mean -  0.7241534067727459\n"
     ]
    }
   ],
   "source": [
    "# best rf {'n_estimators': 800, 'min_samples_split': 2, 'min_samples_leaf': 2, 'max_features': 'sqrt', 'max_depth': 90, 'criterion': 'gini', 'class_weight': 'balanced', 'bootstrap': False}\n",
    "estimators = [\n",
    "    ('mlp', MLPClassifier(hidden_layer_sizes=200, learning_rate='adaptive', solver='adam')),\n",
    "    (\"rf\", RandomForestClassifier(n_estimators=500, min_samples_leaf=2, max_features = 'sqrt',\n",
    "                                  max_depth= 90, bootstrap=False, random_state=51)),\n",
    "    ('lr', LogisticRegression(\"l2\", C=0.01)),\n",
    "    ('svc', LinearSVC(C=0.01, dual=True, loss='hinge', random_state=51)),\n",
    "]\n",
    "clf = StackingClassifier(\n",
    "    estimators=estimators, final_estimator=LogisticRegression()\n",
    ")\n",
    "scaler = StandardScaler()\n",
    "X = scaler.fit_transform(features_cleared_df)\n",
    "# get_mean_conf_matrix(estimator_, X, target)\n",
    "cv_ = StratifiedKFold(n_splits = 5, shuffle=True, random_state=241)\n",
    "scores : np.ndarray = cross_val_score(clf, X, target, cv = cv_, n_jobs=-1, verbose=2)\n",
    "# score ~ 0.81\n",
    "print(\"Min - \" , np.min(scores))\n",
    "print(\"Max - \" , np.max(scores))\n",
    "print(\"Mean - \" , scores.mean())"
   ],
   "metadata": {
    "collapsed": false,
    "pycharm": {
     "name": "#%%\n"
    }
   }
  },
  {
   "cell_type": "code",
   "execution_count": 11,
   "outputs": [
    {
     "data": {
      "text/plain": "{'C': 1.0, 'degree': 1}"
     },
     "execution_count": 11,
     "metadata": {},
     "output_type": "execute_result"
    }
   ],
   "source": [
    "gs.best_params_"
   ],
   "metadata": {
    "collapsed": false,
    "pycharm": {
     "name": "#%%\n"
    }
   }
  },
  {
   "cell_type": "markdown",
   "source": [
    "# PROCESSING AND PREDICTING OF TEST SET"
   ],
   "metadata": {
    "collapsed": false,
    "pycharm": {
     "name": "#%% md\n"
    }
   }
  },
  {
   "cell_type": "code",
   "execution_count": null,
   "outputs": [],
   "source": [
    "# обработка тестовой выборки\n",
    "global_audio_path = \"../data\"\n",
    "test_set_ = pd.DataFrame()\n",
    "classes = []\n",
    "names = []\n",
    "for root, dirs, files in os.walk(os.path.join(global_audio_path, \"test_set\"), topdown=False):\n",
    "    print(len(files))\n",
    "    for name in files:\n",
    "        print(name)\n",
    "        names.append(name)\n",
    "        # important_features = get_features(os.path.join(root, name))\n",
    "        # # display(important_features)\n",
    "        # test_set_ = test_set_.append(important_features, ignore_index=True)"
   ],
   "metadata": {
    "collapsed": false,
    "pycharm": {
     "name": "#%%\n"
    }
   }
  },
  {
   "cell_type": "code",
   "execution_count": 56,
   "outputs": [
    {
     "data": {
      "text/plain": "          0          1           2         3          4          5    \\\n0   51.761980  89.626923  263.145004  1.162555  -0.626445  41.573526   \n1    0.000000   0.000000    0.000000  0.000000  -3.000000   0.000000   \n2   35.397077  55.927989  185.066697  1.127367  -0.266672  27.167014   \n3   27.364267  72.333238  253.814503  2.285329   3.279329  42.248805   \n4    3.855143  31.463190  263.382740  8.039779  62.645896  20.013667   \n..        ...        ...         ...       ...        ...        ...   \n95  21.645368  62.314291  244.153474  2.614622   5.101378  31.507584   \n96  53.113282  68.197958  182.413424  0.619746  -1.395437  25.466492   \n97  17.493321  38.744720  120.326275  1.791117   1.282873  16.067463   \n98  49.522587  71.543061  199.103020  0.818116  -1.187261  31.616064   \n99  21.594215  40.766575  187.589088  1.527268   0.985815  18.658822   \n\n           6          7             8            9    ...        110  \\\n0    96.804841 -62.017670   9803.318066  4962.924887  ...  10.901967   \n1     0.000000 -31.887675  10485.265788  4351.573151  ...  23.448857   \n2    95.072718 -67.902363  10060.717709  2202.829904  ...  22.212913   \n3     0.000000 -54.413660  10041.557461  3551.504570  ...  27.097754   \n4     0.000000 -43.799506   8590.485127  5248.936163  ...  23.299897   \n..         ...        ...           ...          ...  ...        ...   \n95    0.000000 -47.775701   8804.096340  4881.365892  ...  19.961931   \n96  108.757727 -63.401125  10274.223266  2430.769629  ...  20.368541   \n97    0.000000 -61.205179  10890.427658  3964.634509  ...  22.189019   \n98  133.485978 -58.436573  10839.581364  4134.331942  ...  23.562635   \n99    0.000000 -56.832196  11132.945558  3650.474594  ...  18.526777   \n\n          111        112        113        114        115        116  \\\n0    4.739079  15.589056   5.605010   4.594278   4.318587   6.782056   \n1    2.489312  17.148796   0.878775  14.743590   1.864468  11.149280   \n2   15.895349  17.173086   9.584425  11.400564  11.709084  10.173433   \n3   11.603255  17.406931  12.578803   8.694874   9.359720   7.738621   \n4    3.042001  17.594632  12.641233   6.904490   1.457584  15.749333   \n..        ...        ...        ...        ...        ...        ...   \n95   6.821790  17.819378   8.581701   8.480812  10.313920  13.023061   \n96  16.407760  16.499924  15.113135   9.278211  11.257612  11.646778   \n97  10.891023   9.854234  13.016143   7.832365   6.857023   4.914176   \n98   6.593991   9.612580   6.661726  12.378902   8.053707   6.132192   \n99  10.790115  10.846346  13.850471   7.528400   8.527845   8.156223   \n\n          117        118        119  \n0    3.646079   4.366246   3.755388  \n1   14.526752   8.048283   9.064811  \n2    9.181219  11.903566  11.237692  \n3    9.511879   9.678088   9.846202  \n4    1.141038  13.343830   5.371933  \n..        ...        ...        ...  \n95   9.773853   4.356276   6.579113  \n96  10.147658   9.637830  11.846105  \n97   7.695723   9.991849   6.155418  \n98   6.025013   9.404975   7.740971  \n99   6.948536   8.142822   7.729523  \n\n[100 rows x 120 columns]",
      "text/html": "<div>\n<style scoped>\n    .dataframe tbody tr th:only-of-type {\n        vertical-align: middle;\n    }\n\n    .dataframe tbody tr th {\n        vertical-align: top;\n    }\n\n    .dataframe thead th {\n        text-align: right;\n    }\n</style>\n<table border=\"1\" class=\"dataframe\">\n  <thead>\n    <tr style=\"text-align: right;\">\n      <th></th>\n      <th>0</th>\n      <th>1</th>\n      <th>2</th>\n      <th>3</th>\n      <th>4</th>\n      <th>5</th>\n      <th>6</th>\n      <th>7</th>\n      <th>8</th>\n      <th>9</th>\n      <th>...</th>\n      <th>110</th>\n      <th>111</th>\n      <th>112</th>\n      <th>113</th>\n      <th>114</th>\n      <th>115</th>\n      <th>116</th>\n      <th>117</th>\n      <th>118</th>\n      <th>119</th>\n    </tr>\n  </thead>\n  <tbody>\n    <tr>\n      <th>0</th>\n      <td>51.761980</td>\n      <td>89.626923</td>\n      <td>263.145004</td>\n      <td>1.162555</td>\n      <td>-0.626445</td>\n      <td>41.573526</td>\n      <td>96.804841</td>\n      <td>-62.017670</td>\n      <td>9803.318066</td>\n      <td>4962.924887</td>\n      <td>...</td>\n      <td>10.901967</td>\n      <td>4.739079</td>\n      <td>15.589056</td>\n      <td>5.605010</td>\n      <td>4.594278</td>\n      <td>4.318587</td>\n      <td>6.782056</td>\n      <td>3.646079</td>\n      <td>4.366246</td>\n      <td>3.755388</td>\n    </tr>\n    <tr>\n      <th>1</th>\n      <td>0.000000</td>\n      <td>0.000000</td>\n      <td>0.000000</td>\n      <td>0.000000</td>\n      <td>-3.000000</td>\n      <td>0.000000</td>\n      <td>0.000000</td>\n      <td>-31.887675</td>\n      <td>10485.265788</td>\n      <td>4351.573151</td>\n      <td>...</td>\n      <td>23.448857</td>\n      <td>2.489312</td>\n      <td>17.148796</td>\n      <td>0.878775</td>\n      <td>14.743590</td>\n      <td>1.864468</td>\n      <td>11.149280</td>\n      <td>14.526752</td>\n      <td>8.048283</td>\n      <td>9.064811</td>\n    </tr>\n    <tr>\n      <th>2</th>\n      <td>35.397077</td>\n      <td>55.927989</td>\n      <td>185.066697</td>\n      <td>1.127367</td>\n      <td>-0.266672</td>\n      <td>27.167014</td>\n      <td>95.072718</td>\n      <td>-67.902363</td>\n      <td>10060.717709</td>\n      <td>2202.829904</td>\n      <td>...</td>\n      <td>22.212913</td>\n      <td>15.895349</td>\n      <td>17.173086</td>\n      <td>9.584425</td>\n      <td>11.400564</td>\n      <td>11.709084</td>\n      <td>10.173433</td>\n      <td>9.181219</td>\n      <td>11.903566</td>\n      <td>11.237692</td>\n    </tr>\n    <tr>\n      <th>3</th>\n      <td>27.364267</td>\n      <td>72.333238</td>\n      <td>253.814503</td>\n      <td>2.285329</td>\n      <td>3.279329</td>\n      <td>42.248805</td>\n      <td>0.000000</td>\n      <td>-54.413660</td>\n      <td>10041.557461</td>\n      <td>3551.504570</td>\n      <td>...</td>\n      <td>27.097754</td>\n      <td>11.603255</td>\n      <td>17.406931</td>\n      <td>12.578803</td>\n      <td>8.694874</td>\n      <td>9.359720</td>\n      <td>7.738621</td>\n      <td>9.511879</td>\n      <td>9.678088</td>\n      <td>9.846202</td>\n    </tr>\n    <tr>\n      <th>4</th>\n      <td>3.855143</td>\n      <td>31.463190</td>\n      <td>263.382740</td>\n      <td>8.039779</td>\n      <td>62.645896</td>\n      <td>20.013667</td>\n      <td>0.000000</td>\n      <td>-43.799506</td>\n      <td>8590.485127</td>\n      <td>5248.936163</td>\n      <td>...</td>\n      <td>23.299897</td>\n      <td>3.042001</td>\n      <td>17.594632</td>\n      <td>12.641233</td>\n      <td>6.904490</td>\n      <td>1.457584</td>\n      <td>15.749333</td>\n      <td>1.141038</td>\n      <td>13.343830</td>\n      <td>5.371933</td>\n    </tr>\n    <tr>\n      <th>...</th>\n      <td>...</td>\n      <td>...</td>\n      <td>...</td>\n      <td>...</td>\n      <td>...</td>\n      <td>...</td>\n      <td>...</td>\n      <td>...</td>\n      <td>...</td>\n      <td>...</td>\n      <td>...</td>\n      <td>...</td>\n      <td>...</td>\n      <td>...</td>\n      <td>...</td>\n      <td>...</td>\n      <td>...</td>\n      <td>...</td>\n      <td>...</td>\n      <td>...</td>\n      <td>...</td>\n    </tr>\n    <tr>\n      <th>95</th>\n      <td>21.645368</td>\n      <td>62.314291</td>\n      <td>244.153474</td>\n      <td>2.614622</td>\n      <td>5.101378</td>\n      <td>31.507584</td>\n      <td>0.000000</td>\n      <td>-47.775701</td>\n      <td>8804.096340</td>\n      <td>4881.365892</td>\n      <td>...</td>\n      <td>19.961931</td>\n      <td>6.821790</td>\n      <td>17.819378</td>\n      <td>8.581701</td>\n      <td>8.480812</td>\n      <td>10.313920</td>\n      <td>13.023061</td>\n      <td>9.773853</td>\n      <td>4.356276</td>\n      <td>6.579113</td>\n    </tr>\n    <tr>\n      <th>96</th>\n      <td>53.113282</td>\n      <td>68.197958</td>\n      <td>182.413424</td>\n      <td>0.619746</td>\n      <td>-1.395437</td>\n      <td>25.466492</td>\n      <td>108.757727</td>\n      <td>-63.401125</td>\n      <td>10274.223266</td>\n      <td>2430.769629</td>\n      <td>...</td>\n      <td>20.368541</td>\n      <td>16.407760</td>\n      <td>16.499924</td>\n      <td>15.113135</td>\n      <td>9.278211</td>\n      <td>11.257612</td>\n      <td>11.646778</td>\n      <td>10.147658</td>\n      <td>9.637830</td>\n      <td>11.846105</td>\n    </tr>\n    <tr>\n      <th>97</th>\n      <td>17.493321</td>\n      <td>38.744720</td>\n      <td>120.326275</td>\n      <td>1.791117</td>\n      <td>1.282873</td>\n      <td>16.067463</td>\n      <td>0.000000</td>\n      <td>-61.205179</td>\n      <td>10890.427658</td>\n      <td>3964.634509</td>\n      <td>...</td>\n      <td>22.189019</td>\n      <td>10.891023</td>\n      <td>9.854234</td>\n      <td>13.016143</td>\n      <td>7.832365</td>\n      <td>6.857023</td>\n      <td>4.914176</td>\n      <td>7.695723</td>\n      <td>9.991849</td>\n      <td>6.155418</td>\n    </tr>\n    <tr>\n      <th>98</th>\n      <td>49.522587</td>\n      <td>71.543061</td>\n      <td>199.103020</td>\n      <td>0.818116</td>\n      <td>-1.187261</td>\n      <td>31.616064</td>\n      <td>133.485978</td>\n      <td>-58.436573</td>\n      <td>10839.581364</td>\n      <td>4134.331942</td>\n      <td>...</td>\n      <td>23.562635</td>\n      <td>6.593991</td>\n      <td>9.612580</td>\n      <td>6.661726</td>\n      <td>12.378902</td>\n      <td>8.053707</td>\n      <td>6.132192</td>\n      <td>6.025013</td>\n      <td>9.404975</td>\n      <td>7.740971</td>\n    </tr>\n    <tr>\n      <th>99</th>\n      <td>21.594215</td>\n      <td>40.766575</td>\n      <td>187.589088</td>\n      <td>1.527268</td>\n      <td>0.985815</td>\n      <td>18.658822</td>\n      <td>0.000000</td>\n      <td>-56.832196</td>\n      <td>11132.945558</td>\n      <td>3650.474594</td>\n      <td>...</td>\n      <td>18.526777</td>\n      <td>10.790115</td>\n      <td>10.846346</td>\n      <td>13.850471</td>\n      <td>7.528400</td>\n      <td>8.527845</td>\n      <td>8.156223</td>\n      <td>6.948536</td>\n      <td>8.142822</td>\n      <td>7.729523</td>\n    </tr>\n  </tbody>\n</table>\n<p>100 rows × 120 columns</p>\n</div>"
     },
     "execution_count": 56,
     "metadata": {},
     "output_type": "execute_result"
    }
   ],
   "source": [
    "test_set_.fillna(0, inplace=True)\n",
    "cleared_test = select_st.transform(test_set_)\n",
    "pd.DataFrame(cleared_test)"
   ],
   "metadata": {
    "collapsed": false,
    "pycharm": {
     "name": "#%%\n"
    }
   }
  },
  {
   "cell_type": "code",
   "execution_count": null,
   "outputs": [],
   "source": [
    "estimators = [\n",
    "    ('mlp', MLPClassifier(hidden_layer_sizes=200, learning_rate='adaptive', solver='adam')),\n",
    "    (\"rf\", RandomForestClassifier(n_estimators=500, min_samples_leaf=2, max_features = 'sqrt',\n",
    "                                  max_depth= 90, bootstrap=False, random_state=51)),\n",
    "    ('lr', LogisticRegression(\"l2\", C=0.01)),\n",
    "    ('svc', LinearSVC(C=0.01, dual=True, loss='hinge', random_state=51)),\n",
    "]\n",
    "clf = StackingClassifier(\n",
    "    estimators=estimators, final_estimator=LogisticRegression()\n",
    ")\n",
    "scaler = StandardScaler()\n",
    "X_test = scaler.fit_transform(features_cleared_df)\n",
    "X_train = scaler.transform(cleared_test)\n",
    "clf.fit(X_test, target)\n",
    "print(\"Done\")"
   ],
   "metadata": {
    "collapsed": false,
    "pycharm": {
     "name": "#%%\n"
    }
   }
  },
  {
   "cell_type": "code",
   "execution_count": 66,
   "outputs": [
    {
     "name": "stdout",
     "output_type": "stream",
     "text": [
      "[2 1 2 1 1 5 2 3 2 4 3 5 3 4 1 5 2 1 5 2 2 1 3 1 2 2 1 5 4 5 1 3 3 3 3 5 3\n",
      " 1 2 1 1 1 4 2 1 1 2 1 1 3 1 5 4 5 5 4 4 2 3 2 1 2 3 2 2 2 1 2 3 2 2 3 2 3\n",
      " 2 2 4 1 3 1 4 5 2 1 1 2 2 1 3 1 2 5 5 2 5 3 2 5 4 2]\n",
      "[[4.64429759e-03 6.65166763e-01 1.06731766e-02 2.39461313e-01\n",
      "  8.00544493e-02]\n",
      " [9.56428471e-01 5.99869098e-04 3.31696958e-02 1.17796184e-03\n",
      "  8.62400205e-03]\n",
      " [9.72500557e-03 7.45536266e-01 8.24631415e-03 3.32192163e-02\n",
      "  2.03273198e-01]\n",
      " [9.67989146e-01 9.71658237e-04 1.14113045e-02 5.65064693e-04\n",
      "  1.90628265e-02]\n",
      " [8.19249552e-01 2.95248481e-03 1.12085098e-01 2.77942037e-03\n",
      "  6.29334452e-02]\n",
      " [1.12400092e-02 2.80256300e-01 2.24942448e-01 9.24475861e-02\n",
      "  3.91113657e-01]\n",
      " [2.86392204e-03 6.99163976e-01 1.28741807e-02 2.17722593e-01\n",
      "  6.73753289e-02]\n",
      " [4.09187073e-02 3.29238940e-03 9.11052457e-01 2.87966061e-03\n",
      "  4.18567861e-02]\n",
      " [1.54933880e-02 5.65730364e-01 2.40589548e-02 1.37654468e-01\n",
      "  2.57062825e-01]\n",
      " [4.53830090e-03 1.52795632e-01 1.51588912e-02 8.00924050e-01\n",
      "  2.65831262e-02]\n",
      " [2.45367982e-02 1.38127794e-02 9.26916752e-01 4.36467345e-03\n",
      "  3.03689967e-02]\n",
      " [3.62459279e-02 3.29776435e-02 1.95512955e-02 1.64815310e-03\n",
      "  9.09576980e-01]\n",
      " [5.15888384e-03 3.28953476e-03 9.66659429e-01 3.45144853e-03\n",
      "  2.14407044e-02]\n",
      " [1.90840991e-03 1.46542692e-01 7.01886645e-03 8.25819156e-01\n",
      "  1.87108757e-02]\n",
      " [9.68546407e-01 5.92442859e-04 1.49034145e-02 5.88470856e-04\n",
      "  1.53692646e-02]\n",
      " [2.67689141e-02 1.35502569e-01 1.77037320e-02 2.55893761e-02\n",
      "  7.94435409e-01]\n",
      " [1.55786204e-02 7.91736564e-01 1.93924451e-02 6.44688513e-02\n",
      "  1.08823519e-01]\n",
      " [9.12010273e-01 1.38148446e-03 5.90412153e-02 2.76642373e-03\n",
      "  2.48006039e-02]\n",
      " [3.08326056e-02 6.29091151e-02 1.51082922e-02 1.34053645e-02\n",
      "  8.77744623e-01]\n",
      " [8.92164289e-03 7.12438963e-01 5.78034101e-03 2.17987099e-01\n",
      "  5.48719544e-02]\n",
      " [5.10747272e-02 5.94145585e-01 2.40267931e-02 1.93673911e-01\n",
      "  1.37078983e-01]\n",
      " [5.48902250e-01 2.18895179e-03 4.03660545e-01 6.24151097e-03\n",
      "  3.90067420e-02]\n",
      " [8.77603816e-02 3.11442032e-02 7.03888884e-01 7.92312475e-03\n",
      "  1.69283406e-01]\n",
      " [9.73786950e-01 4.14359911e-04 1.78228725e-02 1.03042049e-03\n",
      "  6.94539758e-03]\n",
      " [6.22439270e-03 6.88014355e-01 3.54837917e-02 1.65664582e-01\n",
      "  1.04612879e-01]\n",
      " [8.11112494e-03 7.55761174e-01 4.40208169e-02 1.47379266e-02\n",
      "  1.77368958e-01]\n",
      " [5.62836432e-01 3.73448974e-02 9.36055417e-03 1.36379916e-03\n",
      "  3.89094318e-01]\n",
      " [1.91897714e-01 1.01730014e-01 2.28572991e-01 6.28182630e-02\n",
      "  4.14981019e-01]\n",
      " [4.45948421e-03 1.15265259e-01 6.45208151e-03 8.59027401e-01\n",
      "  1.47957743e-02]\n",
      " [2.79697324e-02 3.19278587e-01 1.62360882e-02 3.74323693e-02\n",
      "  5.99083223e-01]\n",
      " [9.40685606e-01 1.21867262e-03 4.69823353e-02 2.18276696e-03\n",
      "  8.93061900e-03]\n",
      " [4.39592152e-02 3.85717475e-03 9.07400671e-01 2.08987079e-03\n",
      "  4.26930679e-02]\n",
      " [1.27799574e-02 1.02323955e-02 8.66511708e-01 2.64355471e-03\n",
      "  1.07832384e-01]\n",
      " [8.29628319e-02 2.17309555e-03 8.65817571e-01 4.55332223e-03\n",
      "  4.44931796e-02]\n",
      " [1.80163535e-01 2.96412089e-03 7.33408078e-01 3.72539229e-03\n",
      "  7.97388741e-02]\n",
      " [4.40461750e-01 8.46343615e-03 2.12130259e-02 1.01829724e-03\n",
      "  5.28843491e-01]\n",
      " [1.17922523e-02 1.02426170e-02 4.89943321e-01 1.34389615e-03\n",
      "  4.86677913e-01]\n",
      " [9.73766253e-01 1.48379703e-04 1.87166533e-02 4.39593202e-04\n",
      "  6.92912065e-03]\n",
      " [9.84288949e-03 6.00426823e-01 1.83270972e-02 3.07976621e-01\n",
      "  6.34265698e-02]\n",
      " [9.74266270e-01 6.25320885e-04 1.52844908e-02 1.11076076e-03\n",
      "  8.71315714e-03]\n",
      " [9.83581998e-01 1.63514711e-04 1.05124740e-02 7.48786345e-04\n",
      "  4.99322662e-03]\n",
      " [9.96873867e-01 2.08472730e-06 2.65544948e-03 3.50220627e-04\n",
      "  1.18377845e-04]\n",
      " [8.86147387e-03 1.38083572e-01 1.14232433e-02 8.05126338e-01\n",
      "  3.65053727e-02]\n",
      " [3.30624851e-03 8.80789789e-01 1.64779583e-02 1.53949660e-02\n",
      "  8.40310386e-02]\n",
      " [8.49556483e-01 1.75975047e-03 1.20539997e-01 4.64721167e-03\n",
      "  2.34965575e-02]\n",
      " [9.91348677e-01 1.43392477e-04 4.60868922e-03 4.25571781e-04\n",
      "  3.47366906e-03]\n",
      " [1.00507521e-02 7.19985459e-01 1.56058700e-02 1.20102470e-01\n",
      "  1.34255448e-01]\n",
      " [5.24415749e-01 1.60435458e-02 2.01848149e-01 2.39540775e-03\n",
      "  2.55297148e-01]\n",
      " [7.94325300e-01 6.59977896e-03 3.24012779e-02 2.94559692e-03\n",
      "  1.63728046e-01]\n",
      " [5.87008245e-02 4.60950996e-03 9.10388669e-01 5.35101317e-03\n",
      "  2.09499832e-02]\n",
      " [9.58215548e-01 2.06094895e-03 2.74834093e-02 2.71658034e-03\n",
      "  9.52351390e-03]\n",
      " [6.65952209e-02 3.98693829e-01 5.34531881e-02 1.43882906e-02\n",
      "  4.66869472e-01]\n",
      " [5.27053245e-03 1.53137355e-01 9.56559374e-03 8.04526998e-01\n",
      "  2.74995202e-02]\n",
      " [3.55250166e-02 7.30546791e-02 2.20343248e-02 1.99419425e-02\n",
      "  8.49444037e-01]\n",
      " [4.69202319e-02 2.46856412e-02 4.91586229e-02 4.35323068e-03\n",
      "  8.74882273e-01]\n",
      " [4.64416977e-03 8.00417492e-02 5.37527889e-03 8.84979513e-01\n",
      "  2.49592886e-02]\n",
      " [2.99828560e-03 2.67292920e-01 1.22837230e-02 6.91203979e-01\n",
      "  2.62210923e-02]\n",
      " [3.96548235e-03 7.37370561e-01 1.50448688e-02 1.86677815e-01\n",
      "  5.69412734e-02]\n",
      " [4.10669885e-02 3.88937534e-03 9.10553278e-01 3.80143010e-03\n",
      "  4.06889285e-02]\n",
      " [4.98443531e-03 7.28464342e-01 1.47315648e-02 1.94927523e-01\n",
      "  5.68921348e-02]\n",
      " [9.29100285e-01 2.11890461e-03 3.41282420e-02 2.08935983e-03\n",
      "  3.25632089e-02]\n",
      " [8.73249350e-03 7.13639096e-01 2.13385184e-02 7.83839511e-02\n",
      "  1.77905941e-01]\n",
      " [3.29189769e-02 5.17929449e-03 9.24833632e-01 5.69311834e-03\n",
      "  3.13749787e-02]\n",
      " [1.80957183e-02 6.60767888e-01 7.36101859e-02 4.08596363e-02\n",
      "  2.06666571e-01]\n",
      " [6.36457365e-03 8.58147685e-01 1.07269260e-02 5.69737447e-02\n",
      "  6.77870710e-02]\n",
      " [1.93042179e-03 8.88663315e-01 9.51272592e-03 2.57353812e-02\n",
      "  7.41581562e-02]\n",
      " [7.63240741e-01 3.51751206e-03 8.00695539e-02 2.01226980e-03\n",
      "  1.51159923e-01]\n",
      " [9.68889360e-03 7.53115397e-01 2.04419666e-02 6.55639007e-02\n",
      "  1.51189842e-01]\n",
      " [9.91109927e-02 4.85808825e-02 7.00863999e-01 1.82108612e-02\n",
      "  1.33233265e-01]\n",
      " [2.53538985e-03 7.20870458e-01 1.46382443e-02 1.27061380e-01\n",
      "  1.34894528e-01]\n",
      " [2.91189726e-03 8.32780420e-01 4.06565572e-02 3.59582133e-02\n",
      "  8.76929125e-02]\n",
      " [3.50686323e-02 1.26326135e-02 8.77801734e-01 3.10844255e-03\n",
      "  7.13885777e-02]\n",
      " [1.64403323e-04 9.12165859e-01 1.17990583e-02 1.65698949e-02\n",
      "  5.93007841e-02]\n",
      " [1.09066924e-02 4.87720529e-03 9.57066429e-01 1.67533990e-03\n",
      "  2.54743335e-02]\n",
      " [7.14526029e-03 5.51727012e-01 1.80361343e-02 3.36000675e-01\n",
      "  8.70909188e-02]\n",
      " [6.03969598e-03 8.11189467e-01 4.92466701e-03 7.38270591e-02\n",
      "  1.04019111e-01]\n",
      " [1.17011035e-02 3.04875974e-01 5.06225443e-03 6.32002524e-01\n",
      "  4.63581439e-02]\n",
      " [9.97150153e-01 1.57263982e-04 1.88045974e-03 1.59906255e-04\n",
      "  6.52216658e-04]\n",
      " [2.86869025e-02 4.19716875e-03 9.34659023e-01 5.17995467e-03\n",
      "  2.72769509e-02]\n",
      " [9.92075183e-01 8.58883591e-04 5.34268535e-03 5.05751245e-04\n",
      "  1.21749668e-03]\n",
      " [1.29825518e-02 1.62329683e-01 1.00064111e-02 7.78307939e-01\n",
      "  3.63734147e-02]\n",
      " [1.85950662e-02 2.71184283e-01 1.26853248e-02 1.77499159e-02\n",
      "  6.79785410e-01]\n",
      " [4.33607457e-03 7.84334760e-01 1.08076610e-02 1.10624967e-01\n",
      "  8.98965379e-02]\n",
      " [6.52586226e-01 4.16137031e-03 3.01619350e-01 4.56946609e-03\n",
      "  3.70635875e-02]\n",
      " [9.92646384e-01 7.37357149e-05 5.38081010e-03 5.17030077e-04\n",
      "  1.38203983e-03]\n",
      " [2.24186635e-03 7.77202416e-01 1.42352218e-02 1.43650307e-01\n",
      "  6.26701885e-02]\n",
      " [9.38372751e-03 5.48333473e-01 7.46514583e-02 2.12899275e-01\n",
      "  1.54732066e-01]\n",
      " [9.45885883e-01 9.22959552e-04 4.12645196e-02 2.56928967e-03\n",
      "  9.35734774e-03]\n",
      " [1.91408051e-02 5.14993921e-03 8.35213649e-01 1.47653059e-03\n",
      "  1.39019077e-01]\n",
      " [9.96831773e-01 3.69826443e-05 2.31680602e-03 3.35768793e-04\n",
      "  4.78669771e-04]\n",
      " [4.98806334e-03 7.72802373e-01 1.76958201e-02 7.74846461e-02\n",
      "  1.27029098e-01]\n",
      " [6.01636771e-02 1.24171566e-01 2.19854691e-02 8.62686297e-03\n",
      "  7.85052425e-01]\n",
      " [4.10174137e-02 5.20987088e-02 7.84481758e-03 1.61312418e-02\n",
      "  8.82907818e-01]\n",
      " [7.14104439e-03 7.36935243e-01 9.09721150e-03 1.00147921e-01\n",
      "  1.46678580e-01]\n",
      " [1.80249859e-01 1.19096773e-02 5.45219639e-02 9.05726664e-04\n",
      "  7.52412773e-01]\n",
      " [3.31541013e-02 6.48335830e-03 9.23797500e-01 5.17034301e-03\n",
      "  3.13946977e-02]\n",
      " [4.44312324e-03 7.91042427e-01 1.56059772e-02 7.38750246e-02\n",
      "  1.15033448e-01]\n",
      " [4.36916360e-02 1.13616490e-01 3.26615550e-02 2.73645299e-02\n",
      "  7.82665789e-01]\n",
      " [4.87512540e-03 2.48644764e-01 1.61224023e-02 6.80747042e-01\n",
      "  4.96106670e-02]\n",
      " [2.43546415e-02 6.05784170e-01 1.26748792e-02 2.90721146e-01\n",
      "  6.64651634e-02]]\n",
      "[0.67 0.96 0.75 0.97 0.82 0.39 0.7  0.91 0.57 0.8  0.93 0.91 0.97 0.83\n",
      " 0.97 0.79 0.79 0.91 0.88 0.71 0.59 0.55 0.7  0.97 0.69 0.76 0.56 0.41\n",
      " 0.86 0.6  0.94 0.91 0.87 0.87 0.73 0.53 0.49 0.97 0.6  0.97 0.98 1.\n",
      " 0.81 0.88 0.85 0.99 0.72 0.52 0.79 0.91 0.96 0.47 0.8  0.85 0.87 0.88\n",
      " 0.69 0.74 0.91 0.73 0.93 0.71 0.92 0.66 0.86 0.89 0.76 0.75 0.7  0.72\n",
      " 0.83 0.88 0.91 0.96 0.55 0.81 0.63 1.   0.93 0.99 0.78 0.68 0.78 0.65\n",
      " 0.99 0.78 0.55 0.95 0.84 1.   0.77 0.79 0.88 0.74 0.75 0.92 0.79 0.78\n",
      " 0.68 0.61]\n"
     ]
    }
   ],
   "source": [
    "pred = clf.predict(X_train)\n",
    "pred_proba = clf.predict_proba(X_train)\n",
    "print(pred)\n",
    "print(pred_proba)\n",
    "max_prob_for_file = np.round(np.max(pred_proba, 1), 2)\n",
    "print(max_prob_for_file)\n",
    "df_res = pd.DataFrame({\"file name\" : names, \"predicted class\" : pred, \"prob\" : max_prob_for_file})"
   ],
   "metadata": {
    "collapsed": false,
    "pycharm": {
     "name": "#%%\n"
    }
   }
  },
  {
   "cell_type": "code",
   "execution_count": 68,
   "outputs": [
    {
     "data": {
      "text/plain": "        file name  predicted class  prob\n0     track_1.wav                2  0.67\n1    track_10.wav                1  0.96\n2   track_100.wav                2  0.75\n3    track_11.wav                1  0.97\n4    track_12.wav                1  0.82\n..            ...              ...   ...\n95   track_95.wav                3  0.92\n96   track_96.wav                2  0.79\n97   track_97.wav                5  0.78\n98   track_98.wav                4  0.68\n99   track_99.wav                2  0.61\n\n[100 rows x 3 columns]",
      "text/html": "<div>\n<style scoped>\n    .dataframe tbody tr th:only-of-type {\n        vertical-align: middle;\n    }\n\n    .dataframe tbody tr th {\n        vertical-align: top;\n    }\n\n    .dataframe thead th {\n        text-align: right;\n    }\n</style>\n<table border=\"1\" class=\"dataframe\">\n  <thead>\n    <tr style=\"text-align: right;\">\n      <th></th>\n      <th>file name</th>\n      <th>predicted class</th>\n      <th>prob</th>\n    </tr>\n  </thead>\n  <tbody>\n    <tr>\n      <th>0</th>\n      <td>track_1.wav</td>\n      <td>2</td>\n      <td>0.67</td>\n    </tr>\n    <tr>\n      <th>1</th>\n      <td>track_10.wav</td>\n      <td>1</td>\n      <td>0.96</td>\n    </tr>\n    <tr>\n      <th>2</th>\n      <td>track_100.wav</td>\n      <td>2</td>\n      <td>0.75</td>\n    </tr>\n    <tr>\n      <th>3</th>\n      <td>track_11.wav</td>\n      <td>1</td>\n      <td>0.97</td>\n    </tr>\n    <tr>\n      <th>4</th>\n      <td>track_12.wav</td>\n      <td>1</td>\n      <td>0.82</td>\n    </tr>\n    <tr>\n      <th>...</th>\n      <td>...</td>\n      <td>...</td>\n      <td>...</td>\n    </tr>\n    <tr>\n      <th>95</th>\n      <td>track_95.wav</td>\n      <td>3</td>\n      <td>0.92</td>\n    </tr>\n    <tr>\n      <th>96</th>\n      <td>track_96.wav</td>\n      <td>2</td>\n      <td>0.79</td>\n    </tr>\n    <tr>\n      <th>97</th>\n      <td>track_97.wav</td>\n      <td>5</td>\n      <td>0.78</td>\n    </tr>\n    <tr>\n      <th>98</th>\n      <td>track_98.wav</td>\n      <td>4</td>\n      <td>0.68</td>\n    </tr>\n    <tr>\n      <th>99</th>\n      <td>track_99.wav</td>\n      <td>2</td>\n      <td>0.61</td>\n    </tr>\n  </tbody>\n</table>\n<p>100 rows × 3 columns</p>\n</div>"
     },
     "metadata": {},
     "output_type": "display_data"
    }
   ],
   "source": [
    "display(df_res)\n",
    "df_res.to_csv(\"results.csv\", index=False)"
   ],
   "metadata": {
    "collapsed": false,
    "pycharm": {
     "name": "#%%\n"
    }
   }
  }
 ],
 "metadata": {
  "kernelspec": {
   "name": "kaggle_s",
   "language": "python",
   "display_name": "Python (Kaggle_s)"
  },
  "language_info": {
   "codemirror_mode": {
    "name": "ipython",
    "version": 2
   },
   "file_extension": ".py",
   "mimetype": "text/x-python",
   "name": "python",
   "nbconvert_exporter": "python",
   "pygments_lexer": "ipython2",
   "version": "2.7.6"
  }
 },
 "nbformat": 4,
 "nbformat_minor": 0
}