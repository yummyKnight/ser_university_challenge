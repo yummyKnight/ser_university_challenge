{
 "cells": [
  {
   "cell_type": "code",
   "execution_count": 21,
   "metadata": {
    "collapsed": true
   },
   "outputs": [],
   "source": [
    "import os\n",
    "import librosa\n",
    "import numpy as np\n",
    "# import matplotlib.pyplot as plt\n",
    "import pandas as pd\n",
    "from IPython.core.display import display\n",
    "from sklearn.ensemble import GradientBoostingClassifier\n",
    "from sklearn.linear_model import LogisticRegression\n",
    "from sklearn.model_selection import GridSearchCV, StratifiedKFold, cross_val_score\n",
    "from sklearn.neighbors import KNeighborsClassifier\n",
    "from sklearn.preprocessing import scale\n",
    "from sklearn.svm import SVC\n",
    "from tqdm import tqdm\n",
    "from surfboard.sound import Waveform\n",
    "from surfboard.feature_extraction import extract_features\n",
    "### OPTIMIZE IMPORT ###"
   ]
  },
  {
   "cell_type": "markdown",
   "source": [
    "Используемые библиотеки:\n",
    "1) liborsa\n",
    "2) surfboard\n",
    "3)\n",
    "\n",
    "\n",
    "Порядок действий:\n",
    "    Усреднить громкость наверное\n",
    "    1) librosa.effects.preemphasis (In order to equalize the effect of the propagation)\n",
    "    2) features:\n",
    "        2.1)MFCC\n",
    "        2.2)Energy\n",
    "        2.3)Pitch\n",
    "        2.4)formants (1 - 3)\n",
    "        2.5)spectrum centroid????\n",
    "        2.6)Zero crossing rate\n",
    "        2.7)jitter\n",
    "        2.8)shimmers\n",
    "        2.7) Mean, max, std (статистика по всем фичам на запись)"
   ],
   "metadata": {
    "collapsed": false
   }
  },
  {
   "cell_type": "code",
   "execution_count": 2,
   "outputs": [],
   "source": [
    "global_audio_path = \"../data\"\n",
    "def get_mfcc(audio_path : str, _nmfcc = 20, start: int = 2, end: int  = 17) -> np.ndarray:\n",
    "    \"\"\"\n",
    "    Выделает MFCC коэффициенты из аудио, для каждого окна берется коэффициенты со 2 по N,\n",
    "    :param audio_path:\n",
    "    :type audio_path:\n",
    "    :return:\n",
    "    :rtype:\n",
    "    \"\"\"\n",
    "    _nfft = 512\n",
    "    # _hop_length = 160\n",
    "    # Меняет количество sample\n",
    "    audio, sampling_freq = librosa.load(audio_path, sr=None, res_type='scipy')\n",
    "    # print(sampling_freq)\n",
    "    features = librosa.feature.mfcc(audio, sampling_freq, n_mfcc=_nmfcc, n_fft=_nfft)\n",
    "    return features[start:end,:].T.ravel()\n",
    "    # len(fe), len(fe[0])\n",
    "# print(fe[0])\n",
    "# print(fe[1])"
   ],
   "metadata": {
    "collapsed": false,
    "pycharm": {
     "name": "#%%\n"
    }
   }
  },
  {
   "cell_type": "code",
   "execution_count": 40,
   "outputs": [
    {
     "name": "stderr",
     "output_type": "stream",
     "text": [
      "Extracting features...:   0%|          | 0/1 [00:00<?, ?it/s]C:\\Users\\Admin\\.conda\\envs\\Kaggle_s\\lib\\site-packages\\librosa\\filters.py:239: UserWarning: Empty filters detected in mel frequency basis. Some channels will produce empty responses. Try increasing your sampling rate (and fmax) or reducing n_mels.\n",
      "  \"Empty filters detected in mel frequency basis. \"\n",
      "Extracting features...: 100%|██████████| 1/1 [00:00<00:00,  3.36it/s]\n"
     ]
    }
   ],
   "source": [
    "# sound_path = \"../data/1/03-01-05-01-01-01-01_A1.wav\"\n",
    "components_list = [\n",
    "    'f0_contour', 'log_energy', 'spectral_centroid', 'formants', 'loudness',\n",
    "    'jitters', 'shimmers', 'zerocrossing',\n",
    "]\n",
    "mfcc_with_arg = {'mfcc': {'n_mfcc': 16, 'n_fft_seconds': 512 / 48000}}\n",
    "def get_features(sound_path : str) -> pd.DataFrame:\n",
    "    audio, sampling_freq = librosa.load(sound_path, sr=None, res_type='scipy')\n",
    "    # 512 / sampling_freq\n",
    "    components_list.append(mfcc_with_arg)\n",
    "    processed_audio = librosa.effects.preemphasis(audio)\n",
    "    statistics_list = ['mean', 'std', 'min', 'max', 'skewness', 'kurtosis']\n",
    "    # Extract dataframe...\n",
    "    audio = Waveform(signal=processed_audio, sample_rate=sampling_freq)\n",
    "    feature_df = extract_features(\n",
    "        waveforms=[audio], components_list=components_list, statistics_list=statistics_list)\n",
    "    return feature_df"
   ],
   "metadata": {
    "collapsed": false,
    "pycharm": {
     "name": "#%%\n"
    }
   }
  },
  {
   "cell_type": "code",
   "execution_count": 3,
   "outputs": [
    {
     "name": "stderr",
     "output_type": "stream",
     "text": [
      "  0%|          | 0/172 [00:00<?, ?it/s]C:\\Users\\Admin\\.conda\\envs\\Kaggle_s\\lib\\site-packages\\librosa\\filters.py:239: UserWarning: Empty filters detected in mel frequency basis. Some channels will produce empty responses. Try increasing your sampling rate (and fmax) or reducing n_mels.\n",
      "  \"Empty filters detected in mel frequency basis. \"\n",
      "100%|██████████| 172/172 [00:07<00:00, 23.79it/s]\n",
      "100%|██████████| 259/259 [00:08<00:00, 31.10it/s]\n",
      "100%|██████████| 172/172 [00:06<00:00, 28.38it/s]\n",
      "100%|██████████| 85/85 [00:02<00:00, 35.27it/s]\n",
      "100%|██████████| 171/171 [00:05<00:00, 28.80it/s]\n"
     ]
    },
    {
     "name": "stdout",
     "output_type": "stream",
     "text": [
      "172\n",
      "259\n",
      "172\n",
      "85\n",
      "171\n"
     ]
    }
   ],
   "source": [
    "# old mfcc\n",
    "max_len = -1\n",
    "features = []\n",
    "classes = []\n",
    "for i in range(1, 6):\n",
    "    for root, dirs, files in os.walk(os.path.join(global_audio_path, str(i)), topdown=False):\n",
    "        print(len(files))\n",
    "        for name in tqdm(files):\n",
    "            important_features = get_mfcc(os.path.join(root, name))\n",
    "            max_len = max(max_len, important_features.shape[0])\n",
    "            features.append(important_features)\n",
    "            classes.append(i)"
   ],
   "metadata": {
    "collapsed": false,
    "pycharm": {
     "name": "#%%\n"
    }
   }
  },
  {
   "cell_type": "code",
   "execution_count": 4,
   "outputs": [
    {
     "data": {
      "text/plain": "         0         1          2          3          4          5     \\\n0    0.000000  0.000000   0.000000   0.000000   0.000000   0.000000   \n1    0.000000  0.000000   0.000000   0.000000   0.000000   0.000000   \n2    0.424576  0.036667  10.632904  15.569912 -14.513282 -15.562387   \n3    0.000000  0.000000   0.000000   0.000000   0.000000   0.000000   \n4    2.941792  2.906605   2.857789   2.795756   2.721071   2.634377   \n..        ...       ...        ...        ...        ...        ...   \n854  0.000000  0.000000   0.000000   0.000000   0.000000   0.000000   \n855  1.327634  1.302804   1.268480   1.225113   1.173234   1.113503   \n856  0.000000  0.000000   0.000000   0.000000   0.000000   0.000000   \n857  0.000000  0.000000   0.000000   0.000000   0.000000   0.000000   \n858  0.000000  0.000000   0.000000   0.000000   0.000000   0.000000   \n\n          6         7         8          9     ...  6755  6756  6757  6758  \\\n0     0.000000  0.000000  0.000000   0.000000  ...   0.0   0.0   0.0   0.0   \n1     0.000000  0.000000  0.000000   0.000000  ...   0.0   0.0   0.0   0.0   \n2   -15.246050  6.461302 -5.611545 -15.148950  ...   0.0   0.0   0.0   0.0   \n3     0.000000  0.000000  0.000000   0.000000  ...   0.0   0.0   0.0   0.0   \n4     2.536410  2.428020  2.310090   2.183592  ...   0.0   0.0   0.0   0.0   \n..         ...       ...       ...        ...  ...   ...   ...   ...   ...   \n854   0.000000  0.000000  0.000000   0.000000  ...   0.0   0.0   0.0   0.0   \n855   1.046653  0.973520  0.894979   0.811980  ...   0.0   0.0   0.0   0.0   \n856   0.000000  0.000000  0.000000   0.000000  ...   0.0   0.0   0.0   0.0   \n857   0.000000  0.000000  0.000000   0.000000  ...   0.0   0.0   0.0   0.0   \n858   0.000000  0.000000  0.000000   0.000000  ...   0.0   0.0   0.0   0.0   \n\n     6759  6760  6761  6762  6763  6764  \n0     0.0   0.0   0.0   0.0   0.0   0.0  \n1     0.0   0.0   0.0   0.0   0.0   0.0  \n2     0.0   0.0   0.0   0.0   0.0   0.0  \n3     0.0   0.0   0.0   0.0   0.0   0.0  \n4     0.0   0.0   0.0   0.0   0.0   0.0  \n..    ...   ...   ...   ...   ...   ...  \n854   0.0   0.0   0.0   0.0   0.0   0.0  \n855   0.0   0.0   0.0   0.0   0.0   0.0  \n856   0.0   0.0   0.0   0.0   0.0   0.0  \n857   0.0   0.0   0.0   0.0   0.0   0.0  \n858   0.0   0.0   0.0   0.0   0.0   0.0  \n\n[859 rows x 6765 columns]",
      "text/html": "<div>\n<style scoped>\n    .dataframe tbody tr th:only-of-type {\n        vertical-align: middle;\n    }\n\n    .dataframe tbody tr th {\n        vertical-align: top;\n    }\n\n    .dataframe thead th {\n        text-align: right;\n    }\n</style>\n<table border=\"1\" class=\"dataframe\">\n  <thead>\n    <tr style=\"text-align: right;\">\n      <th></th>\n      <th>0</th>\n      <th>1</th>\n      <th>2</th>\n      <th>3</th>\n      <th>4</th>\n      <th>5</th>\n      <th>6</th>\n      <th>7</th>\n      <th>8</th>\n      <th>9</th>\n      <th>...</th>\n      <th>6755</th>\n      <th>6756</th>\n      <th>6757</th>\n      <th>6758</th>\n      <th>6759</th>\n      <th>6760</th>\n      <th>6761</th>\n      <th>6762</th>\n      <th>6763</th>\n      <th>6764</th>\n    </tr>\n  </thead>\n  <tbody>\n    <tr>\n      <th>0</th>\n      <td>0.000000</td>\n      <td>0.000000</td>\n      <td>0.000000</td>\n      <td>0.000000</td>\n      <td>0.000000</td>\n      <td>0.000000</td>\n      <td>0.000000</td>\n      <td>0.000000</td>\n      <td>0.000000</td>\n      <td>0.000000</td>\n      <td>...</td>\n      <td>0.0</td>\n      <td>0.0</td>\n      <td>0.0</td>\n      <td>0.0</td>\n      <td>0.0</td>\n      <td>0.0</td>\n      <td>0.0</td>\n      <td>0.0</td>\n      <td>0.0</td>\n      <td>0.0</td>\n    </tr>\n    <tr>\n      <th>1</th>\n      <td>0.000000</td>\n      <td>0.000000</td>\n      <td>0.000000</td>\n      <td>0.000000</td>\n      <td>0.000000</td>\n      <td>0.000000</td>\n      <td>0.000000</td>\n      <td>0.000000</td>\n      <td>0.000000</td>\n      <td>0.000000</td>\n      <td>...</td>\n      <td>0.0</td>\n      <td>0.0</td>\n      <td>0.0</td>\n      <td>0.0</td>\n      <td>0.0</td>\n      <td>0.0</td>\n      <td>0.0</td>\n      <td>0.0</td>\n      <td>0.0</td>\n      <td>0.0</td>\n    </tr>\n    <tr>\n      <th>2</th>\n      <td>0.424576</td>\n      <td>0.036667</td>\n      <td>10.632904</td>\n      <td>15.569912</td>\n      <td>-14.513282</td>\n      <td>-15.562387</td>\n      <td>-15.246050</td>\n      <td>6.461302</td>\n      <td>-5.611545</td>\n      <td>-15.148950</td>\n      <td>...</td>\n      <td>0.0</td>\n      <td>0.0</td>\n      <td>0.0</td>\n      <td>0.0</td>\n      <td>0.0</td>\n      <td>0.0</td>\n      <td>0.0</td>\n      <td>0.0</td>\n      <td>0.0</td>\n      <td>0.0</td>\n    </tr>\n    <tr>\n      <th>3</th>\n      <td>0.000000</td>\n      <td>0.000000</td>\n      <td>0.000000</td>\n      <td>0.000000</td>\n      <td>0.000000</td>\n      <td>0.000000</td>\n      <td>0.000000</td>\n      <td>0.000000</td>\n      <td>0.000000</td>\n      <td>0.000000</td>\n      <td>...</td>\n      <td>0.0</td>\n      <td>0.0</td>\n      <td>0.0</td>\n      <td>0.0</td>\n      <td>0.0</td>\n      <td>0.0</td>\n      <td>0.0</td>\n      <td>0.0</td>\n      <td>0.0</td>\n      <td>0.0</td>\n    </tr>\n    <tr>\n      <th>4</th>\n      <td>2.941792</td>\n      <td>2.906605</td>\n      <td>2.857789</td>\n      <td>2.795756</td>\n      <td>2.721071</td>\n      <td>2.634377</td>\n      <td>2.536410</td>\n      <td>2.428020</td>\n      <td>2.310090</td>\n      <td>2.183592</td>\n      <td>...</td>\n      <td>0.0</td>\n      <td>0.0</td>\n      <td>0.0</td>\n      <td>0.0</td>\n      <td>0.0</td>\n      <td>0.0</td>\n      <td>0.0</td>\n      <td>0.0</td>\n      <td>0.0</td>\n      <td>0.0</td>\n    </tr>\n    <tr>\n      <th>...</th>\n      <td>...</td>\n      <td>...</td>\n      <td>...</td>\n      <td>...</td>\n      <td>...</td>\n      <td>...</td>\n      <td>...</td>\n      <td>...</td>\n      <td>...</td>\n      <td>...</td>\n      <td>...</td>\n      <td>...</td>\n      <td>...</td>\n      <td>...</td>\n      <td>...</td>\n      <td>...</td>\n      <td>...</td>\n      <td>...</td>\n      <td>...</td>\n      <td>...</td>\n      <td>...</td>\n    </tr>\n    <tr>\n      <th>854</th>\n      <td>0.000000</td>\n      <td>0.000000</td>\n      <td>0.000000</td>\n      <td>0.000000</td>\n      <td>0.000000</td>\n      <td>0.000000</td>\n      <td>0.000000</td>\n      <td>0.000000</td>\n      <td>0.000000</td>\n      <td>0.000000</td>\n      <td>...</td>\n      <td>0.0</td>\n      <td>0.0</td>\n      <td>0.0</td>\n      <td>0.0</td>\n      <td>0.0</td>\n      <td>0.0</td>\n      <td>0.0</td>\n      <td>0.0</td>\n      <td>0.0</td>\n      <td>0.0</td>\n    </tr>\n    <tr>\n      <th>855</th>\n      <td>1.327634</td>\n      <td>1.302804</td>\n      <td>1.268480</td>\n      <td>1.225113</td>\n      <td>1.173234</td>\n      <td>1.113503</td>\n      <td>1.046653</td>\n      <td>0.973520</td>\n      <td>0.894979</td>\n      <td>0.811980</td>\n      <td>...</td>\n      <td>0.0</td>\n      <td>0.0</td>\n      <td>0.0</td>\n      <td>0.0</td>\n      <td>0.0</td>\n      <td>0.0</td>\n      <td>0.0</td>\n      <td>0.0</td>\n      <td>0.0</td>\n      <td>0.0</td>\n    </tr>\n    <tr>\n      <th>856</th>\n      <td>0.000000</td>\n      <td>0.000000</td>\n      <td>0.000000</td>\n      <td>0.000000</td>\n      <td>0.000000</td>\n      <td>0.000000</td>\n      <td>0.000000</td>\n      <td>0.000000</td>\n      <td>0.000000</td>\n      <td>0.000000</td>\n      <td>...</td>\n      <td>0.0</td>\n      <td>0.0</td>\n      <td>0.0</td>\n      <td>0.0</td>\n      <td>0.0</td>\n      <td>0.0</td>\n      <td>0.0</td>\n      <td>0.0</td>\n      <td>0.0</td>\n      <td>0.0</td>\n    </tr>\n    <tr>\n      <th>857</th>\n      <td>0.000000</td>\n      <td>0.000000</td>\n      <td>0.000000</td>\n      <td>0.000000</td>\n      <td>0.000000</td>\n      <td>0.000000</td>\n      <td>0.000000</td>\n      <td>0.000000</td>\n      <td>0.000000</td>\n      <td>0.000000</td>\n      <td>...</td>\n      <td>0.0</td>\n      <td>0.0</td>\n      <td>0.0</td>\n      <td>0.0</td>\n      <td>0.0</td>\n      <td>0.0</td>\n      <td>0.0</td>\n      <td>0.0</td>\n      <td>0.0</td>\n      <td>0.0</td>\n    </tr>\n    <tr>\n      <th>858</th>\n      <td>0.000000</td>\n      <td>0.000000</td>\n      <td>0.000000</td>\n      <td>0.000000</td>\n      <td>0.000000</td>\n      <td>0.000000</td>\n      <td>0.000000</td>\n      <td>0.000000</td>\n      <td>0.000000</td>\n      <td>0.000000</td>\n      <td>...</td>\n      <td>0.0</td>\n      <td>0.0</td>\n      <td>0.0</td>\n      <td>0.0</td>\n      <td>0.0</td>\n      <td>0.0</td>\n      <td>0.0</td>\n      <td>0.0</td>\n      <td>0.0</td>\n      <td>0.0</td>\n    </tr>\n  </tbody>\n</table>\n<p>859 rows × 6765 columns</p>\n</div>"
     },
     "execution_count": 4,
     "metadata": {},
     "output_type": "execute_result"
    }
   ],
   "source": [
    "res_dataframe = pd.DataFrame(features)\n",
    "res_dataframe.fillna(0.0, inplace=True)\n",
    "res_dataframe"
   ],
   "metadata": {
    "collapsed": false,
    "pycharm": {
     "name": "#%%\n"
    }
   }
  },
  {
   "cell_type": "code",
   "execution_count": 33,
   "outputs": [
    {
     "name": "stdout",
     "output_type": "stream",
     "text": [
      "Int64Index([6735, 6736, 6737, 6738, 6739, 6740, 6741, 6742, 6743, 6744, 6745,\n",
      "            6746, 6747, 6748, 6749],\n",
      "           dtype='int64')\n"
     ]
    },
    {
     "data": {
      "text/plain": "0        471.002571\n1       1469.362606\n2       1779.936194\n3       1624.555274\n4       1206.148421\n           ...     \n6760       0.704981\n6761       0.664472\n6762       0.621463\n6763       0.576115\n6764       0.528595\nLength: 6765, dtype: float64"
     },
     "execution_count": 33,
     "metadata": {},
     "output_type": "execute_result"
    }
   ],
   "source": [
    "sum_df = res_dataframe.sum(axis=0)\n",
    "index_to_del = sum_df[sum_df == 0].index\n",
    "print(index_to_del)\n",
    "sum_df"
   ],
   "metadata": {
    "collapsed": false,
    "pycharm": {
     "name": "#%%\n"
    }
   }
  },
  {
   "cell_type": "code",
   "execution_count": 5,
   "outputs": [
    {
     "data": {
      "text/plain": "array([1, 2, 3, 4, 5], dtype=int64)"
     },
     "execution_count": 5,
     "metadata": {},
     "output_type": "execute_result"
    }
   ],
   "source": [
    "target = pd.Series(classes, name=\"target\")\n",
    "target.unique()"
   ],
   "metadata": {
    "collapsed": false,
    "pycharm": {
     "name": "#%%\n"
    }
   }
  },
  {
   "cell_type": "code",
   "execution_count": null,
   "outputs": [],
   "source": [],
   "metadata": {
    "collapsed": false,
    "pycharm": {
     "name": "#%%\n"
    }
   }
  },
  {
   "cell_type": "code",
   "execution_count": null,
   "outputs": [],
   "source": [
    "X = scale(res_dataframe)\n",
    "cv = StratifiedKFold(n_splits = 5, shuffle=True, random_state=241)\n",
    "params = {\"max_depth\" : [3,5,7], \"n_estimators\" : [100, 200, 400]}\n",
    "print(params)\n",
    "estimator_ = GradientBoostingClassifier()\n",
    "gs = GridSearchCV(estimator_, params, cv=cv,scoring=\"accuracy\", verbose=2, n_jobs=-1)\n",
    "gs.fit(X, target)\n",
    "gs.cv_results_"
   ],
   "metadata": {
    "collapsed": false,
    "pycharm": {
     "name": "#%%\n"
    }
   }
  },
  {
   "cell_type": "code",
   "execution_count": 62,
   "outputs": [
    {
     "data": {
      "text/plain": "0.42485380116959065"
     },
     "execution_count": 62,
     "metadata": {},
     "output_type": "execute_result"
    }
   ],
   "source": [
    "X = scale(res_dataframe)\n",
    "cv_ = StratifiedKFold(n_splits = 5, shuffle=True, random_state=241)\n",
    "estimator_ = KNeighborsClassifier(n_neighbors=11)\n",
    "scores : np.ndarray = cross_val_score(estimator_, X, target, cv = cv_, n_jobs=-1)\n",
    "# best ~ 0.43\n",
    "scores.mean()"
   ],
   "metadata": {
    "collapsed": false,
    "pycharm": {
     "name": "#%%"
    }
   }
  },
  {
   "cell_type": "code",
   "execution_count": 57,
   "outputs": [
    {
     "name": "stderr",
     "output_type": "stream",
     "text": [
      "[Parallel(n_jobs=-1)]: Using backend LokyBackend with 12 concurrent workers.\n",
      "[Parallel(n_jobs=-1)]: Done   3 out of   5 | elapsed:   10.2s remaining:    6.8s\n",
      "[Parallel(n_jobs=-1)]: Done   5 out of   5 | elapsed:   10.3s finished\n"
     ]
    },
    {
     "data": {
      "text/plain": "0.5611179110567115"
     },
     "execution_count": 57,
     "metadata": {},
     "output_type": "execute_result"
    }
   ],
   "source": [
    "X = scale(res_dataframe)\n",
    "cv_ = StratifiedKFold(n_splits = 5, shuffle=True, random_state=241)\n",
    "estimator_ = LogisticRegression(\"l2\", C=0.001, solver=\"sag\")\n",
    "scores : np.ndarray = cross_val_score(estimator_, X, target, cv = cv_, n_jobs=-1, verbose=2)\n",
    "# best ~ 0.58\n",
    "scores.mean()"
   ],
   "metadata": {
    "collapsed": false,
    "pycharm": {
     "name": "#%%\n"
    }
   }
  },
  {
   "cell_type": "code",
   "execution_count": 63,
   "outputs": [
    {
     "name": "stderr",
     "output_type": "stream",
     "text": [
      "[Parallel(n_jobs=-1)]: Using backend LokyBackend with 12 concurrent workers.\n",
      "[Parallel(n_jobs=-1)]: Done   3 out of   5 | elapsed:  7.4min remaining:  5.0min\n",
      "[Parallel(n_jobs=-1)]: Done   5 out of   5 | elapsed:  7.5min finished\n"
     ]
    },
    {
     "data": {
      "text/plain": "0.501733986128111"
     },
     "execution_count": 63,
     "metadata": {},
     "output_type": "execute_result"
    }
   ],
   "source": [
    "X = scale(res_dataframe)\n",
    "cv_ = StratifiedKFold(n_splits = 5, shuffle=True, random_state=241)\n",
    "estimator_ = GradientBoostingClassifier()\n",
    "scores : np.ndarray = cross_val_score(estimator_, X, target, cv = cv_, n_jobs=-1, verbose=2)\n",
    "scores.mean()\n"
   ],
   "metadata": {
    "collapsed": false,
    "pycharm": {
     "name": "#%%\n"
    }
   }
  },
  {
   "cell_type": "code",
   "execution_count": 11,
   "outputs": [
    {
     "name": "stdout",
     "output_type": "stream",
     "text": [
      "{'C': array([1.e-03, 1.e-02, 1.e-01, 1.e+00, 1.e+01, 1.e+02]), 'degree': [1, 2, 5, 9]}\n",
      "Fitting 5 folds for each of 24 candidates, totalling 120 fits\n"
     ]
    },
    {
     "name": "stderr",
     "output_type": "stream",
     "text": [
      "[Parallel(n_jobs=-1)]: Using backend LokyBackend with 12 concurrent workers.\n",
      "[Parallel(n_jobs=-1)]: Done  17 tasks      | elapsed:   27.0s\n",
      "[Parallel(n_jobs=-1)]: Done 120 out of 120 | elapsed:  2.2min finished\n"
     ]
    },
    {
     "data": {
      "text/plain": "{'mean_fit_time': array([10.14202571, 11.11791215, 11.27505498, 11.04444523, 10.67810769,\n        11.38615389, 11.5959424 , 11.40016694, 10.62105789, 11.78111405,\n        11.83376007, 12.09800043,  9.48302336, 11.72005682, 11.71064682,\n        11.46822848, 10.74196892, 11.61075692, 11.57572184, 11.48324146,\n        11.07246847, 11.97849274, 11.52988548, 10.50534701]),\n 'std_fit_time': array([0.1849908 , 0.38413026, 0.62154767, 0.34380556, 0.25796554,\n        0.30737111, 0.21032805, 0.26019062, 0.26475568, 0.35776369,\n        0.27058938, 0.34770775, 0.36414519, 0.30897848, 0.31291309,\n        0.22318819, 0.03750703, 0.18063463, 0.31332362, 0.19763557,\n        0.44814232, 0.18593168, 0.2211602 , 0.60782624]),\n 'mean_score_time': array([1.68733416, 1.74378357, 1.73757663, 1.6697144 , 1.63768792,\n        1.6653132 , 1.69093604, 1.69253712, 1.65330172, 1.67071795,\n        1.75579615, 1.60025401, 1.5916451 , 1.68052697, 1.67091947,\n        1.6376873 , 1.57102637, 1.67171903, 1.77101178, 1.71495824,\n        1.56742301, 1.67772479, 1.4110785 , 0.81934366]),\n 'std_score_time': array([0.08119262, 0.13091204, 0.05547451, 0.03952283, 0.04641168,\n        0.02342535, 0.06194267, 0.02945312, 0.04957956, 0.04823659,\n        0.10689178, 0.0465422 , 0.05968546, 0.04085381, 0.01533173,\n        0.02437264, 0.04743317, 0.06460484, 0.06552035, 0.13502655,\n        0.03556755, 0.06116998, 0.24317763, 0.07878139]),\n 'param_C': masked_array(data=[0.001, 0.001, 0.001, 0.001, 0.01, 0.01, 0.01, 0.01,\n                    0.1, 0.1, 0.1, 0.1, 1.0, 1.0, 1.0, 1.0, 10.0, 10.0,\n                    10.0, 10.0, 100.0, 100.0, 100.0, 100.0],\n              mask=[False, False, False, False, False, False, False, False,\n                    False, False, False, False, False, False, False, False,\n                    False, False, False, False, False, False, False, False],\n        fill_value='?',\n             dtype=object),\n 'param_degree': masked_array(data=[1, 2, 5, 9, 1, 2, 5, 9, 1, 2, 5, 9, 1, 2, 5, 9, 1, 2,\n                    5, 9, 1, 2, 5, 9],\n              mask=[False, False, False, False, False, False, False, False,\n                    False, False, False, False, False, False, False, False,\n                    False, False, False, False, False, False, False, False],\n        fill_value='?',\n             dtype=object),\n 'params': [{'C': 0.001, 'degree': 1},\n  {'C': 0.001, 'degree': 2},\n  {'C': 0.001, 'degree': 5},\n  {'C': 0.001, 'degree': 9},\n  {'C': 0.01, 'degree': 1},\n  {'C': 0.01, 'degree': 2},\n  {'C': 0.01, 'degree': 5},\n  {'C': 0.01, 'degree': 9},\n  {'C': 0.1, 'degree': 1},\n  {'C': 0.1, 'degree': 2},\n  {'C': 0.1, 'degree': 5},\n  {'C': 0.1, 'degree': 9},\n  {'C': 1.0, 'degree': 1},\n  {'C': 1.0, 'degree': 2},\n  {'C': 1.0, 'degree': 5},\n  {'C': 1.0, 'degree': 9},\n  {'C': 10.0, 'degree': 1},\n  {'C': 10.0, 'degree': 2},\n  {'C': 10.0, 'degree': 5},\n  {'C': 10.0, 'degree': 9},\n  {'C': 100.0, 'degree': 1},\n  {'C': 100.0, 'degree': 2},\n  {'C': 100.0, 'degree': 5},\n  {'C': 100.0, 'degree': 9}],\n 'split0_test_score': array([0.30232558, 0.30232558, 0.30232558, 0.30232558, 0.30232558,\n        0.30232558, 0.30232558, 0.30232558, 0.3255814 , 0.30232558,\n        0.30232558, 0.30232558, 0.64534884, 0.3372093 , 0.30232558,\n        0.30232558, 0.59302326, 0.49418605, 0.28488372, 0.29069767,\n        0.59302326, 0.48837209, 0.25      , 0.28488372]),\n 'split1_test_score': array([0.29651163, 0.29651163, 0.29651163, 0.29651163, 0.29651163,\n        0.29651163, 0.29651163, 0.29651163, 0.36627907, 0.29651163,\n        0.29651163, 0.29069767, 0.62209302, 0.36627907, 0.29651163,\n        0.29069767, 0.61627907, 0.47674419, 0.29651163, 0.29069767,\n        0.61627907, 0.47674419, 0.23255814, 0.29069767]),\n 'split2_test_score': array([0.30232558, 0.30232558, 0.30232558, 0.30232558, 0.30232558,\n        0.30232558, 0.30232558, 0.30232558, 0.34883721, 0.30232558,\n        0.30232558, 0.30232558, 0.56395349, 0.34883721, 0.29651163,\n        0.29651163, 0.58139535, 0.45930233, 0.29069767, 0.29651163,\n        0.58139535, 0.45348837, 0.24418605, 0.29069767]),\n 'split3_test_score': array([0.30232558, 0.30232558, 0.30232558, 0.30232558, 0.30232558,\n        0.30232558, 0.30232558, 0.30232558, 0.33139535, 0.30232558,\n        0.30232558, 0.29069767, 0.54651163, 0.34883721, 0.28488372,\n        0.28488372, 0.5       , 0.47093023, 0.26744186, 0.28488372,\n        0.5       , 0.47093023, 0.22093023, 0.26744186]),\n 'split4_test_score': array([0.30409357, 0.30409357, 0.30409357, 0.30409357, 0.30409357,\n        0.30409357, 0.30409357, 0.30409357, 0.35672515, 0.30409357,\n        0.29824561, 0.29824561, 0.62573099, 0.35087719, 0.29824561,\n        0.29824561, 0.55555556, 0.43859649, 0.29239766, 0.29824561,\n        0.55555556, 0.44444444, 0.26315789, 0.29239766]),\n 'mean_test_score': array([0.30151639, 0.30151639, 0.30151639, 0.30151639, 0.30151639,\n        0.30151639, 0.30151639, 0.30151639, 0.34576363, 0.30151639,\n        0.3003468 , 0.29685843, 0.60072759, 0.350408  , 0.29569563,\n        0.29453284, 0.56925065, 0.46795186, 0.28638651, 0.29220726,\n        0.56925065, 0.46679587, 0.24216646, 0.28522372]),\n 'std_test_score': array([0.00259437, 0.00259437, 0.00259437, 0.00259437, 0.00259437,\n        0.00259437, 0.00259437, 0.00259437, 0.01525946, 0.00259437,\n        0.00248476, 0.00524621, 0.03837815, 0.0092871 , 0.0058084 ,\n        0.00610313, 0.03976811, 0.01849843, 0.0101823 , 0.00475776,\n        0.03976811, 0.01586361, 0.0144871 , 0.00924883]),\n 'rank_test_score': array([ 8,  8,  8,  8,  8,  8,  8,  8,  7,  8, 17, 18,  1,  6, 19, 20,  2,\n         4, 22, 21,  2,  5, 24, 23])}"
     },
     "execution_count": 11,
     "metadata": {},
     "output_type": "execute_result"
    }
   ],
   "source": [
    "X = scale(res_dataframe)\n",
    "cv = StratifiedKFold(n_splits = 5, shuffle=True, random_state=241)\n",
    "params = {\"C\" : 10 ** np.arange(-3, 3, dtype = float), \"degree\" : [1, 2, 5, 9]}\n",
    "print(params)\n",
    "estimator_ = SVC(kernel=\"poly\")\n",
    "gs = GridSearchCV(estimator_, params, cv=cv,scoring=\"accuracy\", verbose=2, n_jobs=-1)\n",
    "gs.fit(X, target)\n",
    "gs.cv_results_\n",
    "\n",
    "\n",
    "\n",
    "\n"
   ],
   "metadata": {
    "collapsed": false,
    "pycharm": {
     "name": "#%%\n"
    }
   }
  }
 ],
 "metadata": {
  "kernelspec": {
   "name": "kaggle_s",
   "language": "python",
   "display_name": "Python (Kaggle_s)"
  },
  "language_info": {
   "codemirror_mode": {
    "name": "ipython",
    "version": 2
   },
   "file_extension": ".py",
   "mimetype": "text/x-python",
   "name": "python",
   "nbconvert_exporter": "python",
   "pygments_lexer": "ipython2",
   "version": "2.7.6"
  }
 },
 "nbformat": 4,
 "nbformat_minor": 0
}